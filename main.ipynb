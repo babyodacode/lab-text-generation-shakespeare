{
 "cells": [
  {
   "cell_type": "markdown",
   "metadata": {},
   "source": [
    "# Lab | Text Generation from Shakespeare's Sonnet\n",
    "\n",
    "This notebook explores the fascinating domain of text generation using a deep learning model trained on Shakespeare's sonnets. \n",
    "\n",
    "The objective is to create a neural network capable of generating text sequences that mimic the style and language of Shakespeare.\n",
    "\n",
    "By utilizing a Recurrent Neural Network (RNN) with Long Short-Term Memory (LSTM) layers, this project aims to demonstrate how a model can learn and replicate the complex patterns of early modern English. \n",
    "\n",
    "The dataset used consists of Shakespeare's sonnets, which are preprocessed and tokenized to serve as input for the model.\n",
    "\n",
    "Throughout this notebook, you will see the steps taken to prepare the data, build and train the model, and evaluate its performance in generating text. \n",
    "\n",
    "This lab provides a hands-on approach to understanding the intricacies of natural language processing (NLP) and the potential of machine learning in creative text generation."
   ]
  },
  {
   "cell_type": "markdown",
   "metadata": {},
   "source": [
    "Let's import necessary libraries"
   ]
  },
  {
   "cell_type": "code",
   "execution_count": 1,
   "metadata": {
    "id": "BOwsuGQQY9OL",
    "tags": []
   },
   "outputs": [],
   "source": [
    "from tensorflow.keras.preprocessing.sequence import pad_sequences\n",
    "from tensorflow.keras.layers import Embedding, LSTM, Dense, Dropout, Bidirectional\n",
    "from tensorflow.keras.preprocessing.text import Tokenizer\n",
    "from tensorflow.keras.models import Sequential\n",
    "from tensorflow.keras.optimizers import Adam\n",
    "from tensorflow.keras import regularizers\n",
    "import tensorflow.keras.utils as ku \n",
    "import numpy as np"
   ]
  },
  {
   "cell_type": "markdown",
   "metadata": {},
   "source": [
    "Let's get the data!"
   ]
  },
  {
   "cell_type": "code",
   "execution_count": 2,
   "metadata": {
    "tags": []
   },
   "outputs": [],
   "source": [
    "import requests\n",
    "url = 'https://raw.githubusercontent.com/martin-gorner/tensorflow-rnn-shakespeare/master/shakespeare/sonnets.txt'\n",
    "resp = requests.get(url)\n",
    "with open('sonnets.txt', 'wb') as f:\n",
    "    f.write(resp.content)\n",
    "\n",
    "data = open('sonnets.txt').read()\n",
    "\n",
    "corpus = data.lower().split(\"\\n\")"
   ]
  },
  {
   "cell_type": "markdown",
   "metadata": {},
   "source": [
    "Step 1: Initialise a tokenizer and fit it on the corpus variable using .fit_on_texts"
   ]
  },
  {
   "cell_type": "code",
   "execution_count": 22,
   "metadata": {},
   "outputs": [
    {
     "name": "stdout",
     "output_type": "stream",
     "text": [
      "Word index: {'and': 1, 'the': 2, 'to': 3, 'of': 4, 'my': 5, 'i': 6, 'in': 7, 'that': 8, 'thy': 9, 'thou': 10, 'with': 11, 'for': 12, 'is': 13, 'not': 14, 'love': 15, 'but': 16, 'a': 17, 'me': 18, 'thee': 19, 'so': 20, 'be': 21, 'as': 22, 'all': 23, 'you': 24, 'his': 25, 'which': 26, 'when': 27, 'it': 28, 'this': 29, 'by': 30, 'your': 31, 'doth': 32, 'do': 33, 'from': 34, 'on': 35, 'or': 36, 'no': 37, 'then': 38, 'have': 39, 'what': 40, 'are': 41, 'if': 42, 'more': 43, 'mine': 44, 'their': 45, 'shall': 46, 'sweet': 47, 'time': 48, 'will': 49, 'they': 50, 'beauty': 51, 'nor': 52, 'eyes': 53, 'art': 54, 'her': 55, 'heart': 56, 'yet': 57, 'o': 58, 'than': 59, 'can': 60, 'should': 61, 'thine': 62, 'now': 63, 'where': 64, 'make': 65, 'one': 66, 'hath': 67, 'he': 68, 'fair': 69, 'still': 70, 'how': 71, 'eye': 72, 'him': 73, 'like': 74, 'true': 75, 'see': 76, 'am': 77, 'she': 78, 'those': 79, 'though': 80, 'being': 81, 'some': 82, 'every': 83, 'such': 84, 'own': 85, 'were': 86, 'dost': 87, 'who': 88, 'live': 89, 'upon': 90, 'was': 91, 'may': 92, 'myself': 93, 'world': 94, 'say': 95, 'praise': 96, 'day': 97, 'well': 98, 'new': 99, 'give': 100, 'most': 101, \"love's\": 102, 'might': 103, 'did': 104, 'let': 105, 'at': 106, 'why': 107, 'since': 108, 'even': 109, 'show': 110, 'life': 111, 'old': 112, 'look': 113, 'best': 114, 'night': 115, 'dear': 116, 'truth': 117, 'these': 118, 'thyself': 119, 'must': 120, 'would': 121, 'thus': 122, 'self': 123, 'ill': 124, 'part': 125, 'our': 126, 'worth': 127, 'made': 128, 'face': 129, 'whose': 130, 'nothing': 131, 'alone': 132, 'false': 133, 'better': 134, \"beauty's\": 135, 'too': 136, 'much': 137, 'there': 138, 'hand': 139, 'thought': 140, 'away': 141, 'against': 142, 'them': 143, 'thoughts': 144, 'days': 145, 'an': 146, \"'\": 147, 'up': 148, 'sight': 149, 'out': 150, 'hast': 151, 'know': 152, 'therefore': 153, 'both': 154, 'name': 155, 'never': 156, 'death': 157, 'mind': 158, \"time's\": 159, 'other': 160, 'find': 161, 'had': 162, 'muse': 163, 'far': 164, 'dead': 165, 'we': 166, 'tell': 167, 'age': 168, 'each': 169, 'youth': 170, 'good': 171, 'men': 172, 'before': 173, 'verse': 174, 'come': 175, 'tongue': 176, 'poor': 177, 'think': 178, 'proud': 179, 'gentle': 180, 'wilt': 181, 'state': 182, 'till': 183, 'things': 184, 'friend': 185, 'ever': 186, 'use': 187, 'many': 188, 'prove': 189, 'none': 190, 'hate': 191, 'hold': 192, 'heaven': 193, 'first': 194, 'whilst': 195, 'black': 196, 'lie': 197, 'take': 198, 'die': 199, 'bear': 200, 'making': 201, 'lies': 202, 'hours': 203, 'looks': 204, 'change': 205, 'kind': 206, 'mayst': 207, 'whom': 208, 'thing': 209, 'long': 210, 'seem': 211, 'woe': 212, 'full': 213, 'desire': 214, 'bright': 215, 'within': 216, 'form': 217, \"summer's\": 218, 'pleasure': 219, 'happy': 220, 'shalt': 221, 'end': 222, 'others': 223, 'any': 224, \"o'er\": 225, 'yourself': 226, 'after': 227, 'rich': 228, 'knows': 229, 'earth': 230, 'sun': 231, \"'tis\": 232, 'grace': 233, 'pride': 234, 'seen': 235, 'shame': 236, 'glass': 237, 'another': 238, 'great': 239, 'nature': 240, 'leave': 241, 'place': 242, 'could': 243, 'call': 244, 'again': 245, 'pen': 246, 'write': 247, 'once': 248, 'words': 249, 'loving': 250, 'deeds': 251, 'found': 252, 'fire': 253, 'right': 254, 'spirit': 255, 'soul': 256, 'pity': 257, 'treasure': 258, 'back': 259, 'beauteous': 260, 'gone': 261, 'lives': 262, 'times': 263, 'strong': 264, 'keep': 265, 'without': 266, 'decay': 267, 'store': 268, 'past': 269, 'stay': 270, 'lose': 271, 'makes': 272, 'loss': 273, 'two': 274, 'although': 275, 'cannot': 276, 'power': 277, 'living': 278, 'forth': 279, 'memory': 280, 'cruel': 281, 'brow': 282, 'deep': 283, 'child': 284, 'blood': 285, 'lovely': 286, 'gives': 287, 'summer': 288, 'leaves': 289, 'flowers': 290, 'joy': 291, 'fear': 292, 'grow': 293, 'save': 294, 'blessed': 295, 'stand': 296, 'lines': 297, 'skill': 298, 'born': 299, 'glory': 300, 'view': 301, 'disgrace': 302, 'speak': 303, 'faults': 304, 'bring': 305, 'loves': 306, 'delight': 307, 'lest': 308, 'sake': 309, 'thence': 310, 'hell': 311, 'sin': 312, 'only': 313, 'tender': 314, 'fresh': 315, 'waste': 316, 'excuse': 317, 'cold': 318, 'through': 319, 'canst': 320, 'very': 321, 'same': 322, 'ten': 323, 'parts': 324, 'sing': 325, 'ah': 326, 'behold': 327, 'white': 328, 'honour': 329, 'outward': 330, 'less': 331, 'wide': 332, 'worst': 333, 'itself': 334, 'breast': 335, 'put': 336, 'shadow': 337, 'sad': 338, \"i'll\": 339, 'roses': 340, 'steal': 341, 'whether': 342, 'straight': 343, 'set': 344, 'breath': 345, 'virtue': 346, 'slave': 347, 'seeing': 348, 'bad': 349, 'three': 350, 'foul': 351, 'swear': 352, 'rose': 353, 'else': 354, 'due': 355, 'despite': 356, \"nature's\": 357, 'having': 358, 'dwell': 359, 'ere': 360, 'shouldst': 361, 'light': 362, 'head': 363, 'under': 364, 'way': 365, 'unless': 366, 'music': 367, 'hear': 368, 'sweets': 369, 'war': 370, 'lovest': 371, \"'gainst\": 372, 'green': 373, 'go': 374, 'themselves': 375, 'hence': 376, 'longer': 377, 'eternal': 378, 'judgment': 379, 'fortune': 380, 'read': 381, 'shows': 382, 'rhyme': 383, 'compare': 384, 'sometime': 385, 'swift': 386, 'wrong': 387, \"heaven's\": 388, 'strength': 389, 'dumb': 390, 'writ': 391, 'wit': 392, 'book': 393, 'rest': 394, 'hope': 395, 'blind': 396, 'return': 397, 'wealth': 398, 'precious': 399, 'while': 400, 'enough': 401, 'argument': 402, 'heavy': 403, 'dull': 404, \"heart's\": 405, 'care': 406, 'strange': 407, 'been': 408, 'painting': 409, 'taught': 410, 'fears': 411, 'spent': 412, 'sick': 413, 'reason': 414, 'lips': 415, 'mad': 416, \"'will\": 417, 'fairest': 418, \"world's\": 419, 'ornament': 420, 'spring': 421, 'tomb': 422, 'calls': 423, 'wrinkles': 424, 'golden': 425, 'spend': 426, 'lend': 427, 'play': 428, 'winter': 429, 'quite': 430, 'left': 431, 'gracious': 432, 'mortal': 433, 'chide': 434, 'shape': 435, 'beloved': 436, 'least': 437, 'fast': 438, 'year': 439, 'gave': 440, 'gift': 441, 'barren': 442, 'yours': 443, 'rage': 444, 'stars': 445, 'oft': 446, 'doom': 447, 'date': 448, 'holds': 449, 'wish': 450, 'painted': 451, 'keeps': 452, 'graces': 453, 'antique': 454, 'short': 455, 'lived': 456, 'man': 457, 'hue': 458, \"men's\": 459, 'fell': 460, 'purpose': 461, 'truly': 462, 'trust': 463, 'speaking': 464, 'wherein': 465, 'done': 466, 'boast': 467, 'buried': 468, 'merit': 469, 'worthy': 470, 'scope': 471, 'moan': 472, 'hearts': 473, \"stol'n\": 474, 'loved': 475, 'birth': 476, 'hide': 477, 'base': 478, 'grief': 479, 'sorrow': 480, 'tears': 481, 'canker': 482, 'sweetest': 483, 'needs': 484, 'spite': 485, 'subject': 486, 'into': 487, 'invention': 488, 'pain': 489, 'absence': 490, 'kill': 491, 'large': 492, 'water': 493, 'slow': 494, 'present': 495, 'motion': 496, 'down': 497, 'says': 498, 'took': 499, 'side': 500, 'need': 501, 'cheek': 502, 'worse': 503, 'near': 504, 'flower': 505, 'faith': 506, 'tied': 507, 'rank': 508, 'brain': 509, 'saw': 510, 'grew': 511, 'brand': 512, 'cure': 513, \"mistress'\": 514, \"'will'\": 515, 'angel': 516, 'eternity': 517, 'increase': 518, 'abundance': 519, 'sum': 520, 'count': 521, 'prime': 522, 'single': 523, 'image': 524, 'lends': 525, 'free': 526, 'given': 527, 'unused': 528, 'used': 529, 'frame': 530, 'substance': 531, \"death's\": 532, 'worms': 533, 'weary': 534, 'mark': 535, 'song': 536, 'behind': 537, 'grant': 538, 'rude': 539, 'heat': 540, 'beauties': 541, 'scythe': 542, 'here': 543, 'lease': 544, 'pluck': 545, 'methinks': 546, 'evil': 547, 'minutes': 548, 'grows': 549, 'wherefore': 550, 'inward': 551, 'believe': 552, 'high': 553, 'numbers': 554, 'touches': 555, \"ne'er\": 556, 'buds': 557, 'shade': 558, 'crime': 559, 'young': 560, 'mistress': 561, 'rehearse': 562, 'rare': 563, 'air': 564, 'babe': 565, 'body': 566, 'want': 567, 'public': 568, 'forgot': 569, 'removed': 570, 'bare': 571, 'respect': 572, 'dare': 573, 'toil': 574, 'tired': 575, 'jewel': 576, 'please': 577, 'clouds': 578, 'contented': 579, 'break': 580, 'lack': 581, 'account': 582, 'holy': 583, 'appear': 584, 'grown': 585, 'sovereign': 586, 'shine': 587, 'hour': 588, 'wound': 589, 'sense': 590, 'thief': 591, 'help': 592, 'report': 593, 'comfort': 594, 'leisure': 595, 'blame': 596, 'taste': 597, 'absent': 598, 'said': 599, 'gain': 600, 'sleep': 601, 'sea': 602, 'assured': 603, 'told': 604, 'seek': 605, 'groan': 606, 'morrow': 607, 'former': 608, 'second': 609, 'knife': 610, 'brass': 611, 'win': 612, 'forsworn': 613, 'tongues': 614, 'add': 615, 'smell': 616, 'weeds': 617, 'common': 618, 'lost': 619, \"others'\": 620, 'knowing': 621, 'cheeks': 622, 'story': 623, 'praises': 624, 'above': 625, 'wretched': 626, 'turn': 627, 'errors': 628, 'lays': 629, 'red': 630, 'just': 631, 'catch': 632, 'laid': 633, 'bath': 634, 'poet': 635, 'decease': 636, 'heir': 637, 'flame': 638, 'eat': 639, 'grave': 640, 'weed': 641, 'answer': 642, 'repair': 643, 'posterity': 644, \"mother's\": 645, 'april': 646, 'windows': 647, \"remember'd\": 648, 'abuse': 649, 'audit': 650, 'work': 651, 'confounds': 652, 'effect': 653, \"distill'd\": 654, \"winter's\": 655, 'pay': 656, 'happier': 657, 'conquest': 658, 'lo': 659, 'heavenly': 660, 'son': 661, 'receivest': 662, 'ear': 663, 'husband': 664, 'seeming': 665, 'weep': 666, 'kept': 667, 'murderous': 668, 'fairer': 669, 'brave': 670, 'among': 671, 'takes': 672, 'fall': 673, 'father': 674, 'brief': 675, 'rain': 676, 'knowledge': 677, 'constant': 678, 'wouldst': 679, 'nought': 680, 'whereon': 681, 'height': 682, 'wear': 683, 'conceit': 684, 'bloody': 685, 'tyrant': 686, 'means': 687, 'maiden': 688, 'virtuous': 689, 'drawn': 690, \"fill'd\": 691, 'half': 692, 'number': 693, 'shake': 694, 'hot': 695, 'complexion': 696, 'course': 697, 'fade': 698, 'blunt': 699, 'burn': 700, 'forbid': 701, 'draw': 702, \"woman's\": 703, \"women's\": 704, 'woman': 705, 'wert': 706, 'moon': 707, 'cover': 708, 'bearing': 709, 'gavest': 710, 'burden': 711, \"express'd\": 712, 'turns': 713, 'therein': 714, 'cunning': 715, 'favour': 716, 'triumph': 717, 'frown': 718, 'fight': 719, 'thousand': 720, 'razed': 721, 'duty': 722, 'witness': 723, 'wanting': 724, 'star': 725, 'haste': 726, 'bed': 727, \"body's\": 728, 'looking': 729, 'farther': 730, 'blot': 731, 'flatter': 732, 'daily': 733, 'friends': 734, 'almost': 735, 'haply': 736, 'expense': 737, 'survey': 738, 'growing': 739, 'brought': 740, 'style': 741, 'basest': 742, 'ride': 743, 'west': 744, 'alack': 745, 'stain': 746, 'didst': 747, 'bears': 748, 'cross': 749, 'thorns': 750, 'amiss': 751, 'sins': 752, 'fault': 753, 'lawful': 754, 'plea': 755, 'twain': 756, 'remain': 757, 'evermore': 758, \"fortune's\": 759, 'dearest': 760, 'despised': 761, 'vulgar': 762, 'outlive': 763, 'manners': 764, 'greater': 765, 'injury': 766, 'foes': 767, 'because': 768, 'approve': 769, 'losing': 770, 'flattery': 771, 'dark': 772, 'shadows': 773, 'clear': 774, 'flesh': 775, 'matter': 776, 'foot': 777, 'soon': 778, \"eye's\": 779, 'picture': 780, 'sure': 781, 'chest': 782, 'whence': 783, 'prize': 784, 'pass': 785, 'greet': 786, 'reasons': 787, 'desert': 788, 'cause': 789, 'teach': 790, 'speed': 791, 'pace': 792, 'blest': 793, 'tend': 794, 'odour': 795, 'hang': 796, 'stone': 797, 'quick': 798, 'record': 799, 'edge': 800, 'appetite': 801, 'feeding': 802, 'fill': 803, 'ocean': 804, 'shore': 805, 'thrice': 806, 'fool': 807, 'god': 808, 'control': 809, 'doing': 810, 'five': 811, 'character': 812, 'wonder': 813, 'main': 814, \"crown'd\": 815, 'stands': 816, 'mock': 817, 'home': 818, 'elsewhere': 819, 'cost': 820, 'advantage': 821, 'action': 822, 'steel': 823, 'simple': 824, 'infection': 825, 'bastard': 826, \"another's\": 827, 'mend': 828, 'suspect': 829, 'flies': 830, 'mourn': 831, 'vile': 832, 'line': 833, 'thinking': 834, 'birds': 835, 'ground': 836, 'pine': 837, 'acquaintance': 838, 'got': 839, 'double': 840, 'works': 841, 'fame': 842, 'sail': 843, 'anew': 844, 'silence': 845, \"know'st\": 846, 'bonds': 847, 'vow': 848, 'general': 849, \"what's\": 850, \"seem'd\": 851, 'despair': 852, 'growth': 853, 'colour': 854, 'over': 855, 'sinful': 856, 'constancy': 857, 'confined': 858, \"'fair\": 859, 'boy': 860, 'proved': 861, 'proof': 862, 'receives': 863, 'plague': 864, 'minds': 865, 'taken': 866, 'whereto': 867, 'unkind': 868, 'fingers': 869, 'kiss': 870, 'perjured': 871, 'came': 872, \"'i\": 873, \"hate'\": 874, 'sworn': 875, 'conscience': 876, 'oaths': 877, 'sonnets': 878, 'wishing': 879, 't': 880, 'creatures': 881, 'thereby': 882, 'riper': 883, 'contracted': 884, 'bud': 885, 'content': 886, 'churl': 887, 'makest': 888, 'winters': 889, \"tatter'd\": 890, 'small': 891, 'held': 892, 'lusty': 893, \"'this\": 894, 'mother': 895, 'womb': 896, 'husbandry': 897, 'fond': 898, 'stop': 899, 'niggard': 900, 'bounteous': 901, 'usurer': 902, 'deceive': 903, 'gaze': 904, 'leads': 905, 'hideous': 906, 'sap': 907, \"cheque'd\": 908, 'bareness': 909, 'pent': 910, 'walls': 911, 'remembrance': 912, 'meet': 913, 'willing': 914, 'breed': 915, 'depart': 916, 'serving': 917, 'sacred': 918, 'majesty': 919, 'steep': 920, 'resembling': 921, 'attending': 922, 'pilgrimage': 923, 'pitch': 924, 'converted': 925, 'going': 926, \"unlook'd\": 927, 'delights': 928, 'concord': 929, 'sounds': 930, 'married': 931, 'sweetly': 932, 'mutual': 933, 'pleasing': 934, 'note': 935, 'speechless': 936, 'sings': 937, 'wail': 938, 'widow': 939, 'bosom': 940, 'himself': 941, 'commits': 942, 'deny': 943, \"possess'd\": 944, 'chief': 945, 'presence': 946, 'growest': 947, 'folly': 948, 'bounty': 949, 'copy': 950, 'clock': 951, 'tells': 952, 'violet': 953, 'lofty': 954, 'canopy': 955, 'borne': 956, 'question': 957, 'wastes': 958, 'forsake': 959, 'defence': 960, 'coming': 961, 'prepare': 962, 'issue': 963, 'wind': 964, 'princes': 965, 'thrive': 966, 'perfection': 967, 'little': 968, 'huge': 969, 'stage': 970, 'influence': 971, 'comment': 972, 'youthful': 973, 'inconstant': 974, 'sets': 975, 'wasteful': 976, 'fortify': 977, 'counterfeit': 978, 'pencil': 979, 'neither': 980, 'deserts': 981, 'faces': 982, \"poet's\": 983, 'alive': 984, 'twice': 985, 'winds': 986, 'shines': 987, 'often': 988, 'gold': 989, 'changing': 990, 'possession': 991, 'breathe': 992, 'keen': 993, 'fierce': 994, 'glad': 995, 'seasons': 996, \"whate'er\": 997, 'fading': 998, 'allow': 999, 'pattern': 1000, 'master': 1001, 'acquainted': 1002, 'fashion': 1003, 'theirs': 1004, 'gilding': 1005, 'controlling': 1006, 'souls': 1007, 'created': 1008, 'wrought': 1009, 'doting': 1010, 'addition': 1011, \"fix'd\": 1012, 'slain': 1013, 'besides': 1014, 'replete': 1015, 'forget': 1016, 'perfect': 1017, 'plead': 1018, 'learn': 1019, 'silent': 1020, 'belongs': 1021, 'fine': 1022, 'painter': 1023, \"bosom's\": 1024, 'bars': 1025, 'remove': 1026, 'strongly': 1027, 'send': 1028, \"soul's\": 1029, 'moving': 1030, 'repose': 1031, 'limbs': 1032, 'travel': 1033, 'journey': 1034, 'abide': 1035, 'eyelids': 1036, 'open': 1037, 'sightless': 1038, 'hung': 1039, 'benefit': 1040, \"oppress'd\": 1041, 'enemies': 1042, \"either's\": 1043, 'reign': 1044, 'hands': 1045, 'torture': 1046, 'off': 1047, 'sorrows': 1048, 'nightly': 1049, 'stronger': 1050, 'cries': 1051, 'curse': 1052, \"man's\": 1053, 'sullen': 1054, 'hymns': 1055, 'brings': 1056, 'scorn': 1057, 'kings': 1058, 'hid': 1059, 'dateless': 1060, \"vanish'd\": 1061, 'heavily': 1062, 'supposed': 1063, 'obsequious': 1064, 'interest': 1065, 'lovers': 1066, 'survive': 1067, 'dust': 1068, 'deceased': 1069, 'bettering': 1070, 'reserve': 1071, 'vouchsafe': 1072, \"friend's\": 1073, 'dearer': 1074, 'died': 1075, 'poets': 1076, 'morning': 1077, 'mountain': 1078, 'pale': 1079, 'alchemy': 1080, 'anon': 1081, 'stealing': 1082, 'unseen': 1083, 'morn': 1084, 'triumphant': 1085, 'cloud': 1086, \"mask'd\": 1087, 'rotten': 1088, 'physic': 1089, 'weak': 1090, 'ransom': 1091, 'trespass': 1092, 'sensual': 1093, 'sourly': 1094, 'robs': 1095, 'kindness': 1096, 'sort': 1097, 'lame': 1098, 'sit': 1099, 'invent': 1100, 'aught': 1101, 'slight': 1102, \"'t\": 1103, 'us': 1104, 'torment': 1105, 'sour': 1106, 'praising': 1107, 'hadst': 1108, 'blamed': 1109, 'wilful': 1110, 'robbery': 1111, 'poverty': 1112, 'lascivious': 1113, 'petty': 1114, 'wrongs': 1115, 'liberty': 1116, 'years': 1117, 'temptation': 1118, 'ay': 1119, 'seat': 1120, 'forbear': 1121, 'try': 1122, 'lead': 1123, 'ye': 1124, 'lay': 1125, 'wink': 1126, 'unrespected': 1127, 'dreams': 1128, 'clearer': 1129, 'nights': 1130, 'injurious': 1131, 'farthest': 1132, 'nimble': 1133, 'leap': 1134, 'miles': 1135, 'elements': 1136, 'health': 1137, 'title': 1138, 'quest': 1139, 'feast': 1140, 'guest': 1141, 'either': 1142, 'careful': 1143, 'falsehood': 1144, 'jewels': 1145, 'prey': 1146, 'feel': 1147, 'thievish': 1148, 'cast': 1149, \"call'd\": 1150, 'strangely': 1151, 'guard': 1152, 'ease': 1153, 'beast': 1154, 'wretch': 1155, 'spur': 1156, 'offence': 1157, 'horse': 1158, 'towards': 1159, 'point': 1160, 'seldom': 1161, 'captain': 1162, 'special': 1163, \"imprison'd\": 1164, \"lack'd\": 1165, 'whereof': 1166, 'deaths': 1167, 'gilded': 1168, 'powerful': 1169, 'root': 1170, \"lover's\": 1171, 'force': 1172, 'hungry': 1173, 'perpetual': 1174, 'welcome': 1175, 'watch': 1176, 'bitterness': 1177, 'affairs': 1178, 'thinks': 1179, 'vassal': 1180, 'bound': 1181, 'suffer': 1182, 'patience': 1183, 'bide': 1184, 'cheque': 1185, 'charter': 1186, 'privilege': 1187, 'belong': 1188, 'wait': 1189, 'wits': 1190, 'subjects': 1191, 'goes': 1192, 'crooked': 1193, 'confound': 1194, 'feeds': 1195, 'shames': 1196, 'idle': 1197, 'remedy': 1198, 'grounded': 1199, 'antiquity': 1200, \"age's\": 1201, 'king': 1202, 'outworn': 1203, 'ink': 1204, 'cry': 1205, 'sway': 1206, 'lively': 1207, 'veins': 1208, 'last': 1209, 'map': 1210, 'gay': 1211, 'shown': 1212, 'guess': 1213, 'measure': 1214, 'defect': 1215, 'crow': 1216, 'slander': 1217, 'pure': 1218, \"pass'd\": 1219, 'tie': 1220, 'envy': 1221, 'fled': 1222, 'nay': 1223, 'remember': 1224, 'wise': 1225, 'devise': 1226, 'untrue': 1227, 'yellow': 1228, \"ruin'd\": 1229, 'bail': 1230, 'showers': 1231, 'peace': 1232, \"'twixt\": 1233, 'doubting': 1234, 'counting': 1235, 'possessing': 1236, 'glance': 1237, 'aside': 1238, 'compounds': 1239, 'noted': 1240, 'word': 1241, 'telling': 1242, 'dial': 1243, 'learning': 1244, 'ignorance': 1245, 'added': 1246, 'aid': 1247, 'pays': 1248, 'humble': 1249, 'saucy': 1250, 'bark': 1251, 'worthless': 1252, 'yield': 1253, 'monument': 1254, 'finding': 1255, 'gross': 1256, 'quill': 1257, 'mute': 1258, 'example': 1259, 'comments': 1260, 'affords': 1261, 'praised': 1262, 'something': 1263, 'spirits': 1264, 'giving': 1265, 'riches': 1266, 'comes': 1267, 'dream': 1268, 'bending': 1269, 'injuries': 1270, 'vantage': 1271, 'desired': 1272, 'walks': 1273, 'bent': 1274, 'bow': 1275, 'hawks': 1276, 'humour': 1277, 'adjunct': 1278, 'finds': 1279, 'depends': 1280, 'vex': 1281, 'deceived': 1282, \"alter'd\": 1283, 'creation': 1284, 'sweetness': 1285, 'excellence': 1286, 'sport': 1287, 'mansion': 1288, \"esteem'd\": 1289, \"deem'd\": 1290, 'betray': 1291, 'autumn': 1292, 'dyed': 1293, 'blushing': 1294, 'esteem': 1295, 'rise': 1296, 'neglect': 1297, 'seems': 1298, \"turn'd\": 1299, 'perfumes': 1300, 'wondrous': 1301, \"true'\": 1302, \"look'd\": 1303, 'forfeit': 1304, 'express': 1305, 'divine': 1306, 'bred': 1307, 'frailties': 1308, 'alas': 1309, 'newer': 1310, 'next': 1311, 'guilty': 1312, 'goddess': 1313, 'drink': 1314, 'potions': 1315, 'bitter': 1316, 'strive': 1317, 'objects': 1318, 'palate': 1319, 'vows': 1320, 'alters': 1321, 'shaken': 1322, 'unknown': 1323, 'accuse': 1324, 'level': 1325, 'urge': 1326, 'maladies': 1327, 'shun': 1328, 'diseased': 1329, 'policy': 1330, 'healthful': 1331, 'goodness': 1332, 'hopes': 1333, 'fever': 1334, 'built': 1335, 'unkindness': 1336, 'becomes': 1337, 'feeling': 1338, 'wills': 1339, 'tables': 1340, 'bold': 1341, 'discontent': 1342, 'bore': 1343, 'render': 1344, \"borrow'd\": 1345, 'profaned': 1346, 'mourners': 1347, 'becoming': 1348, 'wood': 1349, 'jacks': 1350, 'lust': 1351, 'extreme': 1352, 'sooner': 1353, 'pursuit': 1354, 'wires': 1355, 'sound': 1356, 'belied': 1357, 'disdain': 1358, 'pretty': 1359, 'mourning': 1360, 'suit': 1361, 'fulfil': 1362, 'corrupt': 1363, 'vainly': 1364, 'ears': 1365, 'despise': 1366, 'dote': 1367, 'broke': 1368, 'chase': 1369, 'follow': 1370, 'fiend': 1371, 'abhor': 1372, 'cupid': 1373, 'asleep': 1374, 'begetter': 1375, 'insuing': 1376, 'mr': 1377, 'w': 1378, 'h': 1379, 'happiness': 1380, 'promised': 1381, 'wisheth': 1382, 'adventurer': 1383, 'setting': 1384, \"feed'st\": 1385, \"light'st\": 1386, 'substantial': 1387, 'fuel': 1388, 'famine': 1389, 'foe': 1390, 'herald': 1391, 'gaudy': 1392, 'buriest': 1393, 'niggarding': 1394, 'glutton': 1395, 'ii': 1396, 'forty': 1397, 'beseige': 1398, 'dig': 1399, 'trenches': 1400, 'field': 1401, \"youth's\": 1402, 'livery': 1403, 'gazed': 1404, \"ask'd\": 1405, 'sunken': 1406, 'eating': 1407, 'thriftless': 1408, 'deserved': 1409, 'couldst': 1410, 'proving': 1411, 'succession': 1412, 'warm': 1413, \"feel'st\": 1414, 'iii': 1415, 'viewest': 1416, 'renewest': 1417, 'beguile': 1418, 'unbless': 1419, \"unear'd\": 1420, 'disdains': 1421, 'tillage': 1422, 'dies': 1423, 'iv': 1424, 'unthrifty': 1425, 'loveliness': 1426, 'legacy': 1427, 'bequest': 1428, 'frank': 1429, 'largess': 1430, 'profitless': 1431, 'sums': 1432, 'traffic': 1433, 'acceptable': 1434, \"tomb'd\": 1435, \"th'\": 1436, 'executor': 1437, 'v': 1438, 'tyrants': 1439, 'unfair': 1440, 'fairly': 1441, 'excel': 1442, 'resting': 1443, 'frost': 1444, \"o'ersnow'd\": 1445, 'distillation': 1446, 'liquid': 1447, 'prisoner': 1448, 'bereft': 1449, 'leese': 1450, 'vi': 1451, 'ragged': 1452, 'deface': 1453, 'vial': 1454, \"kill'd\": 1455, 'forbidden': 1456, 'usury': 1457, 'happies': 1458, 'loan': 1459, \"that's\": 1460, 'refigured': 1461, 'leaving': 1462, \"will'd\": 1463, 'vii': 1464, 'orient': 1465, 'lifts': 1466, 'burning': 1467, 'homage': 1468, 'appearing': 1469, \"climb'd\": 1470, 'hill': 1471, 'middle': 1472, 'adore': 1473, 'highmost': 1474, 'car': 1475, 'feeble': 1476, 'reeleth': 1477, \"'fore\": 1478, 'duteous': 1479, 'low': 1480, 'tract': 1481, 'noon': 1482, 'diest': 1483, 'get': 1484, 'viii': 1485, \"hear'st\": 1486, 'sadly': 1487, 'gladly': 1488, 'annoy': 1489, 'tuned': 1490, 'unions': 1491, 'offend': 1492, 'singleness': 1493, 'string': 1494, 'strikes': 1495, 'ordering': 1496, 'sire': 1497, \"'thou\": 1498, 'ix': 1499, 'wet': 1500, \"widow's\": 1501, 'consumest': 1502, 'issueless': 1503, 'hap': 1504, 'makeless': 1505, 'wife': 1506, 'private': 1507, \"children's\": 1508, \"husband's\": 1509, 'unthrift': 1510, 'shifts': 1511, 'enjoys': 1512, 'user': 1513, 'destroys': 1514, 'toward': 1515, 'sits': 1516, 'x': 1517, \"bear'st\": 1518, 'unprovident': 1519, 'evident': 1520, \"stick'st\": 1521, 'conspire': 1522, 'seeking': 1523, 'roof': 1524, 'ruinate': 1525, 'lodged': 1526, 'hearted': 1527, 'xi': 1528, 'wane': 1529, 'departest': 1530, 'youngly': 1531, 'bestowest': 1532, 'convertest': 1533, 'herein': 1534, 'wisdom': 1535, 'minded': 1536, 'cease': 1537, 'threescore': 1538, 'harsh': 1539, 'featureless': 1540, 'barrenly': 1541, 'perish': 1542, \"endow'd\": 1543, 'cherish': 1544, 'carved': 1545, 'seal': 1546, 'meant': 1547, 'print': 1548, 'xii': 1549, 'sunk': 1550, 'sable': 1551, 'curls': 1552, \"silver'd\": 1553, 'trees': 1554, 'erst': 1555, 'herd': 1556, 'girded': 1557, 'sheaves': 1558, 'bier': 1559, 'bristly': 1560, 'beard': 1561, 'xiii': 1562, 'semblance': 1563, 'determination': 1564, \"yourself's\": 1565, 'lets': 1566, 'house': 1567, 'uphold': 1568, 'stormy': 1569, 'gusts': 1570, 'unthrifts': 1571, 'xiv': 1572, 'astronomy': 1573, 'luck': 1574, 'plagues': 1575, 'dearths': 1576, \"seasons'\": 1577, 'quality': 1578, 'pointing': 1579, 'thunder': 1580, 'predict': 1581, 'derive': 1582, 'together': 1583, 'convert': 1584, 'prognosticate': 1585, \"truth's\": 1586, 'xv': 1587, 'consider': 1588, 'moment': 1589, 'presenteth': 1590, 'secret': 1591, 'perceive': 1592, 'plants': 1593, 'cheered': 1594, 'sky': 1595, 'vaunt': 1596, 'decrease': 1597, 'debateth': 1598, 'sullied': 1599, 'engraft': 1600, 'xvi': 1601, 'mightier': 1602, 'top': 1603, 'gardens': 1604, 'unset': 1605, 'liker': 1606, 'pupil': 1607, 'xvii': 1608, 'hides': 1609, \"touch'd\": 1610, 'earthly': 1611, 'papers': 1612, \"yellow'd\": 1613, \"scorn'd\": 1614, 'rights': 1615, \"term'd\": 1616, 'stretched': 1617, 'metre': 1618, 'xviii': 1619, 'temperate': 1620, 'rough': 1621, 'darling': 1622, \"dimm'd\": 1623, 'declines': 1624, 'chance': 1625, \"untrimm'd\": 1626, 'owest': 1627, 'brag': 1628, \"wander'st\": 1629, 'xix': 1630, 'devouring': 1631, \"lion's\": 1632, 'paws': 1633, 'devour': 1634, 'brood': 1635, 'teeth': 1636, \"tiger's\": 1637, 'jaws': 1638, 'phoenix': 1639, 'sorry': 1640, 'fleets': 1641, 'footed': 1642, 'heinous': 1643, 'carve': 1644, 'untainted': 1645, 'succeeding': 1646, 'xx': 1647, 'passion': 1648, 'shifting': 1649, 'rolling': 1650, 'object': 1651, 'whereupon': 1652, 'gazeth': 1653, \"'hues'\": 1654, 'steals': 1655, 'amazeth': 1656, 'defeated': 1657, 'adding': 1658, \"prick'd\": 1659, 'xxi': 1660, \"stirr'd\": 1661, 'couplement': 1662, \"sea's\": 1663, 'gems': 1664, \"april's\": 1665, 'rondure': 1666, 'hems': 1667, \"o'\": 1668, 'candles': 1669, 'hearsay': 1670, 'sell': 1671, 'xxii': 1672, 'persuade': 1673, 'furrows': 1674, 'expiate': 1675, 'seemly': 1676, 'raiment': 1677, 'elder': 1678, 'wary': 1679, 'chary': 1680, 'nurse': 1681, 'faring': 1682, 'presume': 1683, 'xxiii': 1684, 'unperfect': 1685, 'actor': 1686, \"strength's\": 1687, 'weakens': 1688, 'ceremony': 1689, 'rite': 1690, \"o'ercharged\": 1691, 'books': 1692, 'eloquence': 1693, 'presagers': 1694, 'recompense': 1695, 'xxiv': 1696, \"play'd\": 1697, \"stell'd\": 1698, 'table': 1699, 'perspective': 1700, \"painter's\": 1701, 'pictured': 1702, 'shop': 1703, 'hanging': 1704, 'glazed': 1705, 'peep': 1706, 'xxv': 1707, 'titles': 1708, \"princes'\": 1709, 'favourites': 1710, 'spread': 1711, 'marigold': 1712, \"sun's\": 1713, 'painful': 1714, 'warrior': 1715, 'famoused': 1716, 'victories': 1717, \"foil'd\": 1718, \"toil'd\": 1719, 'xxvi': 1720, 'lord': 1721, 'vassalage': 1722, 'knit': 1723, 'written': 1724, 'embassage': 1725, 'naked': 1726, 'bestow': 1727, 'whatsoever': 1728, 'guides': 1729, 'points': 1730, 'graciously': 1731, 'aspect': 1732, 'puts': 1733, 'apparel': 1734, 'xxvii': 1735, 'begins': 1736, \"work's\": 1737, 'expired': 1738, 'intend': 1739, 'zealous': 1740, 'drooping': 1741, 'darkness': 1742, 'imaginary': 1743, 'presents': 1744, 'ghastly': 1745, 'quiet': 1746, 'xxviii': 1747, 'plight': 1748, \"debarr'd\": 1749, \"day's\": 1750, 'oppression': 1751, 'eased': 1752, 'consent': 1753, 'complain': 1754, 'swart': 1755, \"complexion'd\": 1756, 'sparkling': 1757, 'twire': 1758, \"gild'st\": 1759, \"grief's\": 1760, 'xxix': 1761, 'beweep': 1762, 'outcast': 1763, 'trouble': 1764, 'deal': 1765, 'bootless': 1766, 'fate': 1767, 'featured': 1768, 'desiring': 1769, 'enjoy': 1770, 'despising': 1771, 'lark': 1772, 'arising': 1773, 'gate': 1774, 'xxx': 1775, 'sessions': 1776, 'summon': 1777, 'sigh': 1778, 'sought': 1779, 'woes': 1780, 'drown': 1781, 'flow': 1782, 'afresh': 1783, \"cancell'd\": 1784, 'grieve': 1785, 'grievances': 1786, 'foregone': 1787, 'fore': 1788, 'bemoaned': 1789, 'paid': 1790, 'losses': 1791, 'restored': 1792, 'xxxi': 1793, 'endeared': 1794, 'lacking': 1795, 'reigns': 1796, 'tear': 1797, 'religious': 1798, 'hidden': 1799, 'trophies': 1800, 'images': 1801, 'xxxii': 1802, 'bones': 1803, 're': 1804, 'lover': 1805, \"outstripp'd\": 1806, 'exceeded': 1807, \"'had\": 1808, 'march': 1809, 'ranks': 1810, 'equipage': 1811, 'xxxiii': 1812, 'glorious': 1813, 'tops': 1814, 'kissing': 1815, 'meadows': 1816, 'streams': 1817, 'permit': 1818, 'ugly': 1819, 'rack': 1820, 'celestial': 1821, 'forlorn': 1822, 'visage': 1823, 'early': 1824, 'splendor': 1825, 'region': 1826, 'whit': 1827, 'disdaineth': 1828, 'suns': 1829, 'staineth': 1830, 'xxxiv': 1831, 'promise': 1832, 'cloak': 1833, \"o'ertake\": 1834, 'hiding': 1835, 'bravery': 1836, 'smoke': 1837, 'dry': 1838, 'storm': 1839, 'beaten': 1840, 'salve': 1841, 'heals': 1842, 'cures': 1843, 'repent': 1844, \"offender's\": 1845, 'relief': 1846, \"offence's\": 1847, 'pearl': 1848, 'sheds': 1849, 'xxxv': 1850, 'grieved': 1851, 'silver': 1852, 'fountains': 1853, 'mud': 1854, 'eclipses': 1855, 'loathsome': 1856, 'authorizing': 1857, 'corrupting': 1858, 'salving': 1859, 'excusing': 1860, 'adverse': 1861, 'party': 1862, 'advocate': 1863, 'commence': 1864, 'civil': 1865, 'accessary': 1866, 'xxxvi': 1867, 'confess': 1868, 'undivided': 1869, 'blots': 1870, 'separable': 1871, 'alter': 1872, 'sole': 1873, 'acknowledge': 1874, 'bewailed': 1875, 'guilt': 1876, 'xxxvii': 1877, 'decrepit': 1878, 'active': 1879, 'entitled': 1880, 'crowned': 1881, 'engrafted': 1882, 'sufficed': 1883, 'xxxviii': 1884, \"pour'st\": 1885, 'excellent': 1886, 'paper': 1887, 'thanks': 1888, 'perusal': 1889, \"who's\": 1890, 'tenth': 1891, 'nine': 1892, 'rhymers': 1893, 'invocate': 1894, 'curious': 1895, 'xxxix': 1896, 'divided': 1897, 'separation': 1898, 'deservest': 1899, 'entertain': 1900, 'teachest': 1901, 'xl': 1902, 'yea': 1903, 'usest': 1904, 'deceivest': 1905, 'refusest': 1906, 'forgive': 1907, \"hate's\": 1908, 'known': 1909, 'spites': 1910, 'xli': 1911, 'befits': 1912, 'follows': 1913, 'won': 1914, 'assailed': 1915, 'woos': 1916, 'prevailed': 1917, 'mightest': 1918, 'straying': 1919, 'riot': 1920, 'forced': 1921, 'twofold': 1922, 'hers': 1923, 'tempting': 1924, 'xlii': 1925, 'dearly': 1926, 'wailing': 1927, 'nearly': 1928, 'offenders': 1929, 'knowst': 1930, 'suffering': 1931, \"here's\": 1932, 'xliii': 1933, 'darkly': 1934, 'directed': 1935, \"shadow's\": 1936, 'unseeing': 1937, 'imperfect': 1938, 'xliv': 1939, 'distance': 1940, 'space': 1941, 'limits': 1942, 'remote': 1943, 'jump': 1944, 'land': 1945, 'kills': 1946, 'lengths': 1947, 'attend': 1948, 'receiving': 1949, 'badges': 1950, 'xlv': 1951, 'purging': 1952, 'wherever': 1953, 'slide': 1954, 'quicker': 1955, 'embassy': 1956, 'four': 1957, 'sinks': 1958, 'melancholy': 1959, 'until': 1960, \"life's\": 1961, 'composition': 1962, 'recured': 1963, 'messengers': 1964, \"return'd\": 1965, 'recounting': 1966, 'xlvi': 1967, 'divide': 1968, \"picture's\": 1969, 'bar': 1970, 'freedom': 1971, 'closet': 1972, 'pierced': 1973, 'crystal': 1974, 'defendant': 1975, 'appearance': 1976, \"'cide\": 1977, 'impanneled': 1978, 'tenants': 1979, 'verdict': 1980, 'determined': 1981, 'moiety': 1982, 'xlvii': 1983, 'betwixt': 1984, 'league': 1985, 'unto': 1986, \"famish'd\": 1987, 'sighs': 1988, 'smother': 1989, 'banquet': 1990, 'bids': 1991, 'share': 1992, 'resent': 1993, 'move': 1994, 'awakes': 1995, 'xlviii': 1996, 'trifle': 1997, 'truest': 1998, 'thrust': 1999, 'wards': 2000, 'trifles': 2001, 'greatest': 2002, \"lock'd\": 2003, 'closure': 2004, 'proves': 2005, 'xlix': 2006, 'defects': 2007, 'utmost': 2008, 'advised': 2009, 'respects': 2010, 'scarcely': 2011, 'settled': 2012, 'gravity': 2013, 'ensconce': 2014, 'uprear': 2015, 'laws': 2016, 'allege': 2017, 'l': 2018, \"travel's\": 2019, \"'thus\": 2020, 'measured': 2021, 'plods': 2022, 'dully': 2023, 'weight': 2024, 'instinct': 2025, 'rider': 2026, 'provoke': 2027, 'sometimes': 2028, 'anger': 2029, 'thrusts': 2030, 'answers': 2031, 'sharp': 2032, 'spurring': 2033, 'onward': 2034, 'li': 2035, 'bearer': 2036, 'posting': 2037, 'extremity': 2038, 'mounted': 2039, 'winged': 2040, \"perfect'st\": 2041, 'neigh': 2042, 'fiery': 2043, 'race': 2044, 'jade': 2045, 'went': 2046, 'run': 2047, 'lii': 2048, 'key': 2049, 'locked': 2050, 'blunting': 2051, 'feasts': 2052, 'solemn': 2053, 'stones': 2054, 'thinly': 2055, 'placed': 2056, 'carcanet': 2057, 'wardrobe': 2058, 'robe': 2059, 'instant': 2060, 'unfolding': 2061, 'worthiness': 2062, 'liii': 2063, 'millions': 2064, 'describe': 2065, 'adonis': 2066, 'poorly': 2067, 'imitated': 2068, \"helen's\": 2069, 'grecian': 2070, 'tires': 2071, 'foison': 2072, 'external': 2073, 'liv': 2074, 'deem': 2075, 'blooms': 2076, 'dye': 2077, 'perfumed': 2078, 'tincture': 2079, 'wantonly': 2080, 'masked': 2081, 'discloses': 2082, \"unwoo'd\": 2083, 'odours': 2084, 'distills': 2085, 'lv': 2086, 'marble': 2087, 'monuments': 2088, 'contents': 2089, 'unswept': 2090, \"besmear'd\": 2091, 'sluttish': 2092, 'statues': 2093, 'overturn': 2094, 'broils': 2095, 'masonry': 2096, 'mars': 2097, 'sword': 2098, \"war's\": 2099, 'oblivious': 2100, 'enmity': 2101, 'room': 2102, 'ending': 2103, 'arise': 2104, 'lvi': 2105, 'renew': 2106, 'blunter': 2107, \"allay'd\": 2108, \"sharpen'd\": 2109, 'fullness': 2110, 'dullness': 2111, 'interim': 2112, 'banks': 2113, \"wish'd\": 2114, 'lvii': 2115, 'services': 2116, 'require': 2117, 'bid': 2118, 'servant': 2119, 'adieu': 2120, 'jealous': 2121, 'suppose': 2122, 'lviii': 2123, 'crave': 2124, 'beck': 2125, 'tame': 2126, 'sufferance': 2127, 'accusing': 2128, 'list': 2129, 'pardon': 2130, 'waiting': 2131, 'lix': 2132, 'brains': 2133, 'beguiled': 2134, 'labouring': 2135, 'backward': 2136, 'hundred': 2137, 'courses': 2138, 'composed': 2139, 'mended': 2140, 'revolution': 2141, 'admiring': 2142, 'lx': 2143, 'waves': 2144, 'pebbled': 2145, 'hasten': 2146, 'sequent': 2147, 'forwards': 2148, 'contend': 2149, 'nativity': 2150, 'crawls': 2151, 'maturity': 2152, 'wherewith': 2153, 'elipses': 2154, 'transfix': 2155, 'flourish': 2156, 'delves': 2157, 'parallels': 2158, 'rarities': 2159, 'mow': 2160, 'lxi': 2161, 'slumbers': 2162, 'broken': 2163, \"send'st\": 2164, 'pry': 2165, 'tenor': 2166, 'jealousy': 2167, 'awake': 2168, 'defeat': 2169, 'watchman': 2170, 'wake': 2171, 'lxii': 2172, 'possesseth': 2173, 'define': 2174, 'worths': 2175, 'surmount': 2176, 'indeed': 2177, 'beated': 2178, \"chopp'd\": 2179, \"tann'd\": 2180, 'contrary': 2181, 'iniquity': 2182, 'lxiii': 2183, \"crush'd\": 2184, 'worn': 2185, \"drain'd\": 2186, \"travell'd\": 2187, 'steepy': 2188, \"he's\": 2189, 'vanishing': 2190, 'confounding': 2191, 'cut': 2192, 'lxiv': 2193, 'defaced': 2194, 'towers': 2195, 'kingdom': 2196, 'firm': 2197, 'soil': 2198, 'watery': 2199, 'increasing': 2200, 'interchange': 2201, 'confounded': 2202, 'ruin': 2203, 'ruminate': 2204, 'choose': 2205, 'lxv': 2206, 'boundless': 2207, 'mortality': 2208, 'sways': 2209, 'honey': 2210, 'wreckful': 2211, 'siege': 2212, 'battering': 2213, 'rocks': 2214, 'impregnable': 2215, 'stout': 2216, 'gates': 2217, 'decays': 2218, 'fearful': 2219, 'meditation': 2220, 'spoil': 2221, 'miracle': 2222, 'lxvi': 2223, 'restful': 2224, 'beggar': 2225, 'needy': 2226, \"trimm'd\": 2227, 'jollity': 2228, 'purest': 2229, 'unhappily': 2230, 'guilded': 2231, 'shamefully': 2232, 'misplaced': 2233, 'rudely': 2234, 'strumpeted': 2235, 'wrongfully': 2236, 'disgraced': 2237, 'limping': 2238, 'disabled': 2239, 'authority': 2240, 'doctor': 2241, \"miscall'd\": 2242, 'simplicity': 2243, 'captive': 2244, 'lxvii': 2245, 'impiety': 2246, 'achieve': 2247, 'lace': 2248, 'society': 2249, 'imitate': 2250, 'indirectly': 2251, 'bankrupt': 2252, \"beggar'd\": 2253, 'blush': 2254, 'exchequer': 2255, 'gains': 2256, 'stores': 2257, 'lxviii': 2258, 'signs': 2259, 'durst': 2260, 'inhabit': 2261, 'tresses': 2262, 'sepulchres': 2263, 'shorn': 2264, 'fleece': 2265, 'robbing': 2266, 'dress': 2267, 'yore': 2268, 'lxix': 2269, 'voice': 2270, 'uttering': 2271, 'commend': 2272, 'accents': 2273, 'churls': 2274, 'matcheth': 2275, 'solve': 2276, 'lxx': 2277, \"slander's\": 2278, \"woo'd\": 2279, 'vice': 2280, \"present'st\": 2281, 'unstained': 2282, 'ambush': 2283, \"assail'd\": 2284, 'victor': 2285, 'charged': 2286, 'enlarged': 2287, 'kingdoms': 2288, 'owe': 2289, 'lxxi': 2290, 'surly': 2291, 'bell': 2292, 'warning': 2293, 'vilest': 2294, 'perhaps': 2295, 'compounded': 2296, 'clay': 2297, 'lxxii': 2298, 'task': 2299, 'recite': 2300, 'willingly': 2301, 'impart': 2302, 'shamed': 2303, 'lxxiii': 2304, 'few': 2305, 'boughs': 2306, 'choirs': 2307, 'late': 2308, 'sang': 2309, 'seest': 2310, 'twilight': 2311, 'sunset': 2312, 'fadeth': 2313, 'seals': 2314, \"see'st\": 2315, 'glowing': 2316, 'ashes': 2317, 'expire': 2318, 'consumed': 2319, \"nourish'd\": 2320, 'perceivest': 2321, 'lxxiv': 2322, 'arrest': 2323, 'carry': 2324, 'memorial': 2325, 'reviewest': 2326, 'review': 2327, 'consecrate': 2328, 'dregs': 2329, 'coward': 2330, \"wretch's\": 2331, 'remembered': 2332, 'contains': 2333, 'remains': 2334, 'lxxv': 2335, 'food': 2336, \"season'd\": 2337, 'strife': 2338, 'miser': 2339, 'enjoyer': 2340, 'filching': 2341, \"better'd\": 2342, 'feasting': 2343, 'clean': 2344, 'starved': 2345, 'pursuing': 2346, 'surfeit': 2347, 'gluttoning': 2348, 'lxxvi': 2349, 'variation': 2350, 'methods': 2351, 'showing': 2352, 'proceed': 2353, 'always': 2354, 'dressing': 2355, 'spending': 2356, 'already': 2357, 'lxxvii': 2358, 'vacant': 2359, \"mind's\": 2360, 'imprint': 2361, 'mouthed': 2362, 'graves': 2363, \"dial's\": 2364, 'shady': 2365, 'stealth': 2366, 'progress': 2367, 'contain': 2368, 'commit': 2369, 'blanks': 2370, 'children': 2371, 'nursed': 2372, \"deliver'd\": 2373, 'offices': 2374, 'profit': 2375, 'enrich': 2376, 'lxxviii': 2377, 'invoked': 2378, 'assistance': 2379, 'alien': 2380, 'poesy': 2381, 'disperse': 2382, 'aloft': 2383, 'fly': 2384, 'feathers': 2385, \"learned's\": 2386, 'wing': 2387, 'compile': 2388, 'arts': 2389, 'graced': 2390, 'advance': 2391, 'lxxix': 2392, \"decay'd\": 2393, 'deserves': 2394, 'travail': 2395, 'worthier': 2396, 'stole': 2397, 'behavior': 2398, 'afford': 2399, 'thank': 2400, 'owes': 2401, 'lxxx': 2402, 'faint': 2403, 'thereof': 2404, 'spends': 2405, 'proudest': 2406, 'inferior': 2407, 'broad': 2408, 'wilfully': 2409, 'shallowest': 2410, 'afloat': 2411, 'soundless': 2412, \"wreck'd\": 2413, 'boat': 2414, 'tall': 2415, 'building': 2416, 'goodly': 2417, 'lxxxi': 2418, 'epitaph': 2419, 'forgotten': 2420, 'immortal': 2421, 'entombed': 2422, 'breathers': 2423, 'breathes': 2424, 'mouths': 2425, 'lxxxii': 2426, 'attaint': 2427, \"o'erlook\": 2428, 'dedicated': 2429, 'writers': 2430, 'blessing': 2431, 'limit': 2432, 'enforced': 2433, 'fresher': 2434, 'stamp': 2435, 'devised': 2436, 'strained': 2437, 'rhetoric': 2438, 'sympathized': 2439, 'plain': 2440, 'abused': 2441, 'lxxxiii': 2442, 'exceed': 2443, 'debt': 2444, 'slept': 2445, 'extant': 2446, 'modern': 2447, 'impute': 2448, 'impair': 2449, 'lxxxiv': 2450, 'confine': 2451, 'immured': 2452, 'equal': 2453, 'lean': 2454, 'penury': 2455, 'writes': 2456, 'dignifies': 2457, 'counterpart': 2458, 'admired': 2459, 'blessings': 2460, 'lxxxv': 2461, 'richly': 2462, 'compiled': 2463, 'phrase': 2464, 'muses': 2465, 'filed': 2466, \"unletter'd\": 2467, 'clerk': 2468, \"'amen'\": 2469, 'hymn': 2470, 'able': 2471, \"polish'd\": 2472, 'refined': 2473, 'hearing': 2474, \"''tis\": 2475, 'hindmost': 2476, 'lxxxvi': 2477, 'ripe': 2478, 'inhearse': 2479, 'struck': 2480, 'compeers': 2481, 'astonished': 2482, 'affable': 2483, 'familiar': 2484, 'ghost': 2485, 'gulls': 2486, 'intelligence': 2487, 'victors': 2488, 'countenance': 2489, 'enfeebled': 2490, 'lxxxvii': 2491, 'farewell': 2492, 'estimate': 2493, 'releasing': 2494, 'determinate': 2495, 'granting': 2496, 'deserving': 2497, 'patent': 2498, 'swerving': 2499, 'mistaking': 2500, 'misprision': 2501, 'waking': 2502, 'lxxxviii': 2503, 'disposed': 2504, 'weakness': 2505, \"conceal'd\": 2506, 'attainted': 2507, 'gainer': 2508, 'lxxxix': 2509, 'lameness': 2510, 'halt': 2511, 'strangle': 2512, 'profane': 2513, 'debate': 2514, 'xc': 2515, 'join': 2516, 'drop': 2517, \"'scoped\": 2518, 'rearward': 2519, \"conquer'd\": 2520, 'windy': 2521, 'rainy': 2522, 'linger': 2523, 'purposed': 2524, 'overthrow': 2525, 'griefs': 2526, 'onset': 2527, 'strains': 2528, 'compared': 2529, 'xci': 2530, \"bodies'\": 2531, 'garments': 2532, 'fangled': 2533, 'hounds': 2534, 'particulars': 2535, 'richer': 2536, 'prouder': 2537, \"garments'\": 2538, 'horses': 2539, 'xcii': 2540, 'term': 2541, 'depend': 2542, 'revolt': 2543, 'xciii': 2544, 'supposing': 2545, 'hatred': 2546, \"many's\": 2547, 'history': 2548, 'moods': 2549, 'frowns': 2550, 'decree': 2551, 'workings': 2552, \"eve's\": 2553, 'apple': 2554, 'xciv': 2555, 'hurt': 2556, 'unmoved': 2557, 'rightly': 2558, 'inherit': 2559, 'lords': 2560, 'owners': 2561, 'stewards': 2562, 'outbraves': 2563, 'dignity': 2564, 'sourest': 2565, 'lilies': 2566, 'fester': 2567, 'xcv': 2568, 'fragrant': 2569, 'spot': 2570, 'budding': 2571, 'enclose': 2572, 'dispraise': 2573, 'naming': 2574, 'blesses': 2575, 'vices': 2576, 'habitation': 2577, 'chose': 2578, 'veil': 2579, 'heed': 2580, 'hardest': 2581, 'xcvi': 2582, 'wantonness': 2583, 'resort': 2584, 'finger': 2585, 'throned': 2586, 'queen': 2587, 'truths': 2588, 'translated': 2589, 'lambs': 2590, 'stem': 2591, 'wolf': 2592, 'lamb': 2593, 'translate': 2594, 'gazers': 2595, 'mightst': 2596, 'xcvii': 2597, 'fleeting': 2598, 'freezings': 2599, 'felt': 2600, \"december's\": 2601, 'teeming': 2602, 'big': 2603, 'wanton': 2604, \"widow'd\": 2605, 'wombs': 2606, \"lords'\": 2607, 'abundant': 2608, 'orphans': 2609, \"unfather'd\": 2610, 'fruit': 2611, 'pleasures': 2612, 'cheer': 2613, 'dreading': 2614, 'xcviii': 2615, 'pied': 2616, \"dress'd\": 2617, 'trim': 2618, 'saturn': 2619, \"laugh'd\": 2620, \"leap'd\": 2621, 'different': 2622, 'lap': 2623, \"lily's\": 2624, 'vermilion': 2625, 'figures': 2626, 'xcix': 2627, 'forward': 2628, 'smells': 2629, 'purple': 2630, 'soft': 2631, 'dwells': 2632, 'grossly': 2633, 'lily': 2634, 'condemned': 2635, 'marjoram': 2636, 'hair': 2637, 'fearfully': 2638, 'third': 2639, \"annex'd\": 2640, 'theft': 2641, 'vengeful': 2642, 'c': 2643, \"forget'st\": 2644, \"spend'st\": 2645, 'fury': 2646, 'darkening': 2647, 'forgetful': 2648, 'redeem': 2649, 'idly': 2650, 'resty': 2651, 'wrinkle': 2652, 'graven': 2653, 'satire': 2654, 'spoils': 2655, 'faster': 2656, \"prevent'st\": 2657, 'ci': 2658, 'truant': 2659, 'amends': 2660, 'dignified': 2661, \"'truth\": 2662, \"intermix'd\": 2663, \"for't\": 2664, 'ages': 2665, 'office': 2666, 'cii': 2667, \"strengthen'd\": 2668, 'merchandized': 2669, 'esteeming': 2670, \"owner's\": 2671, 'publish': 2672, 'wont': 2673, 'philomel': 2674, 'front': 2675, 'stops': 2676, 'pipe': 2677, 'pleasant': 2678, 'mournful': 2679, 'hush': 2680, 'wild': 2681, 'burthens': 2682, 'bough': 2683, 'ciii': 2684, 'beside': 2685, 'appears': 2686, 'dulling': 2687, 'striving': 2688, 'mar': 2689, 'verses': 2690, 'gifts': 2691, 'civ': 2692, 'eyed': 2693, 'forests': 2694, 'shook': 2695, \"summers'\": 2696, 'springs': 2697, 'process': 2698, 'junes': 2699, \"burn'd\": 2700, 'figure': 2701, 'perceived': 2702, 'unbred': 2703, 'cv': 2704, 'idolatry': 2705, 'idol': 2706, 'alike': 2707, 'songs': 2708, 'expressing': 2709, 'difference': 2710, 'varying': 2711, 'themes': 2712, 'cvi': 2713, 'chronicle': 2714, 'wasted': 2715, 'descriptions': 2716, 'wights': 2717, 'beautiful': 2718, 'ladies': 2719, 'knights': 2720, 'blazon': 2721, 'lip': 2722, 'prophecies': 2723, 'prefiguring': 2724, 'divining': 2725, 'cvii': 2726, 'prophetic': 2727, 'dreaming': 2728, 'eclipse': 2729, 'endured': 2730, 'augurs': 2731, 'presage': 2732, 'incertainties': 2733, 'crown': 2734, 'proclaims': 2735, 'olives': 2736, 'endless': 2737, 'drops': 2738, 'balmy': 2739, 'subscribes': 2740, 'insults': 2741, 'tribes': 2742, \"tyrants'\": 2743, 'crests': 2744, 'tombs': 2745, 'cviii': 2746, 'figured': 2747, 'register': 2748, 'prayers': 2749, \"hallow'd\": 2750, 'case': 2751, 'weighs': 2752, 'necessary': 2753, 'aye': 2754, 'page': 2755, 'cix': 2756, 'qualify': 2757, 'easy': 2758, 'ranged': 2759, 'travels': 2760, 'exchanged': 2761, \"reign'd\": 2762, 'besiege': 2763, 'kinds': 2764, 'preposterously': 2765, \"stain'd\": 2766, 'universe': 2767, 'cx': 2768, 'motley': 2769, 'gored': 2770, 'sold': 2771, 'cheap': 2772, 'offences': 2773, 'affections': 2774, 'askance': 2775, 'blenches': 2776, 'essays': 2777, 'grind': 2778, 'older': 2779, 'cxi': 2780, 'harmful': 2781, 'provide': 2782, 'breeds': 2783, 'subdued': 2784, \"dyer's\": 2785, \"renew'd\": 2786, 'patient': 2787, 'eisel': 2788, 'penance': 2789, 'correct': 2790, 'correction': 2791, 'assure': 2792, 'cxii': 2793, 'impression': 2794, 'scandal': 2795, \"stamp'd\": 2796, \"steel'd\": 2797, 'changes': 2798, 'profound': 2799, 'abysm': 2800, 'throw': 2801, 'voices': 2802, \"adder's\": 2803, 'critic': 2804, 'flatterer': 2805, 'stopped': 2806, 'dispense': 2807, 'cxiii': 2808, 'governs': 2809, 'about': 2810, 'function': 2811, 'partly': 2812, 'effectually': 2813, 'delivers': 2814, 'bird': 2815, 'latch': 2816, 'vision': 2817, 'rudest': 2818, 'gentlest': 2819, \"deformed'st\": 2820, 'creature': 2821, 'dove': 2822, 'shapes': 2823, 'feature': 2824, 'incapable': 2825, 'cxiv': 2826, \"monarch's\": 2827, 'saith': 2828, 'monsters': 2829, 'indigest': 2830, 'cherubins': 2831, 'resemble': 2832, 'creating': 2833, 'beams': 2834, 'assemble': 2835, 'kingly': 2836, 'drinks': 2837, 'gust': 2838, \"'greeing\": 2839, 'cup': 2840, \"poison'd\": 2841, 'lesser': 2842, 'begin': 2843, 'cxv': 2844, 'knew': 2845, 'afterwards': 2846, 'reckoning': 2847, \"million'd\": 2848, 'accidents': 2849, 'creep': 2850, 'decrees': 2851, 'tan': 2852, \"sharp'st\": 2853, 'intents': 2854, 'divert': 2855, 'altering': 2856, 'fearing': 2857, 'tyranny': 2858, \"'now\": 2859, 'certain': 2860, 'incertainty': 2861, 'crowning': 2862, 'cxvi': 2863, 'marriage': 2864, 'admit': 2865, 'impediments': 2866, 'alteration': 2867, 'bends': 2868, 'remover': 2869, 'fixed': 2870, 'tempests': 2871, 'wandering': 2872, \"worth's\": 2873, 'rosy': 2874, \"sickle's\": 2875, 'compass': 2876, 'weeks': 2877, 'error': 2878, 'cxvii': 2879, 'scanted': 2880, 'repay': 2881, 'frequent': 2882, 'purchased': 2883, 'hoisted': 2884, 'transport': 2885, 'wilfulness': 2886, 'surmise': 2887, 'accumulate': 2888, 'shoot': 2889, \"waken'd\": 2890, 'appeal': 2891, 'cxviii': 2892, 'appetites': 2893, 'eager': 2894, 'prevent': 2895, 'sicken': 2896, 'sickness': 2897, 'purge': 2898, 'tuff': 2899, 'cloying': 2900, 'sauces': 2901, 'welfare': 2902, 'meetness': 2903, 'needing': 2904, 'anticipate': 2905, 'ills': 2906, 'medicine': 2907, 'cured': 2908, 'lesson': 2909, 'drugs': 2910, 'poison': 2911, 'cxix': 2912, 'drunk': 2913, 'siren': 2914, 'limbecks': 2915, 'applying': 2916, 'committed': 2917, 'spheres': 2918, 'fitted': 2919, 'distraction': 2920, 'madding': 2921, 'rebuked': 2922, 'cxx': 2923, 'befriends': 2924, 'transgression': 2925, 'nerves': 2926, \"hammer'd\": 2927, \"you've\": 2928, 'weigh': 2929, 'suffered': 2930, 'deepest': 2931, 'hard': 2932, 'hits': 2933, \"tender'd\": 2934, 'wounded': 2935, 'bosoms': 2936, 'fits': 2937, 'fee': 2938, 'ransoms': 2939, 'cxxi': 2940, 'reproach': 2941, 'adulterate': 2942, 'salutation': 2943, 'sportive': 2944, 'frailer': 2945, 'spies': 2946, 'abuses': 2947, 'reckon': 2948, 'bevel': 2949, 'maintain': 2950, 'badness': 2951, 'cxxii': 2952, \"character'd\": 2953, 'lasting': 2954, 'beyond': 2955, 'faculty': 2956, 'subsist': 2957, 'oblivion': 2958, \"miss'd\": 2959, 'retention': 2960, 'tallies': 2961, 'score': 2962, 'receive': 2963, 'import': 2964, 'forgetfulness': 2965, 'cxxiii': 2966, 'pyramids': 2967, 'novel': 2968, 'dressings': 2969, 'dates': 2970, 'admire': 2971, 'foist': 2972, 'rather': 2973, 'heard': 2974, 'registers': 2975, 'defy': 2976, 'wondering': 2977, 'records': 2978, 'continual': 2979, 'cxxiv': 2980, \"unfather'd'\": 2981, \"gather'd\": 2982, 'builded': 2983, 'accident': 2984, 'suffers': 2985, 'smiling': 2986, 'pomp': 2987, 'falls': 2988, 'blow': 2989, 'thralled': 2990, 'inviting': 2991, 'heretic': 2992, 'leases': 2993, \"number'd\": 2994, 'hugely': 2995, 'politic': 2996, 'drowns': 2997, 'fools': 2998, 'cxxv': 2999, 'extern': 3000, 'honouring': 3001, 'bases': 3002, 'ruining': 3003, 'dwellers': 3004, 'paying': 3005, 'rent': 3006, 'compound': 3007, 'forgoing': 3008, 'savour': 3009, 'pitiful': 3010, 'thrivers': 3011, 'gazing': 3012, 'oblation': 3013, \"mix'd\": 3014, 'seconds': 3015, \"suborn'd\": 3016, 'informer': 3017, \"impeach'd\": 3018, 'cxxvi': 3019, 'fickle': 3020, 'sickle': 3021, 'waning': 3022, \"show'st\": 3023, 'withering': 3024, \"grow'st\": 3025, 'wrack': 3026, 'goest': 3027, 'onwards': 3028, 'minion': 3029, 'detain': 3030, \"delay'd\": 3031, \"answer'd\": 3032, 'quietus': 3033, 'cxxvii': 3034, 'counted': 3035, 'successive': 3036, \"slander'd\": 3037, 'fairing': 3038, \"art's\": 3039, 'bower': 3040, 'brows': 3041, 'raven': 3042, 'suited': 3043, 'slandering': 3044, 'cxxviii': 3045, \"play'st\": 3046, 'gently': 3047, \"sway'st\": 3048, 'wiry': 3049, 'harvest': 3050, 'reap': 3051, \"wood's\": 3052, 'boldness': 3053, 'tickled': 3054, 'situation': 3055, 'dancing': 3056, 'chips': 3057, 'walk': 3058, 'gait': 3059, 'cxxix': 3060, 'savage': 3061, \"enjoy'd\": 3062, 'hunted': 3063, 'hated': 3064, \"swallow'd\": 3065, 'bait': 3066, 'taker': 3067, 'bliss': 3068, 'proposed': 3069, 'cxxx': 3070, 'coral': 3071, \"lips'\": 3072, 'snow': 3073, 'breasts': 3074, 'dun': 3075, 'hairs': 3076, \"damask'd\": 3077, 'reeks': 3078, 'treads': 3079, 'cxxxi': 3080, 'tyrannous': 3081, 'proudly': 3082, 'err': 3083, 'groans': 3084, 'neck': 3085, \"judgment's\": 3086, 'proceeds': 3087, 'cxxxii': 3088, 'pitying': 3089, 'torments': 3090, 'ruth': 3091, 'grey': 3092, 'east': 3093, 'ushers': 3094, 'sober': 3095, 'become': 3096, 'beseem': 3097, 'herself': 3098, 'cxxxiii': 3099, 'beshrew': 3100, \"is't\": 3101, 'slavery': 3102, \"sweet'st\": 3103, 'harder': 3104, \"engross'd\": 3105, 'forsaken': 3106, 'threefold': 3107, \"cross'd\": 3108, 'prison': 3109, 'ward': 3110, \"whoe'er\": 3111, 'rigor': 3112, 'gaol': 3113, 'perforce': 3114, 'cxxxiv': 3115, \"confess'd\": 3116, 'mortgaged': 3117, 'restore': 3118, 'covetous': 3119, \"learn'd\": 3120, 'surety': 3121, 'bond': 3122, 'bind': 3123, 'statute': 3124, \"put'st\": 3125, 'sue': 3126, 'debtor': 3127, 'whole': 3128, 'cxxxv': 3129, 'whoever': 3130, 'boot': 3131, 'overplus': 3132, 'spacious': 3133, 'acceptance': 3134, 'addeth': 3135, 'beseechers': 3136, 'cxxxvi': 3137, 'admitted': 3138, 'receipt': 3139, \"reckon'd\": 3140, 'untold': 3141, \"stores'\": 3142, 'cxxxvii': 3143, 'partial': 3144, \"anchor'd\": 3145, 'bay': 3146, \"eyes'\": 3147, 'forged': 3148, 'hooks': 3149, 'several': 3150, 'plot': 3151, 'erred': 3152, \"transferr'd\": 3153, 'cxxxviii': 3154, 'swears': 3155, \"untutor'd\": 3156, 'unlearned': 3157, 'subtleties': 3158, 'simply': 3159, 'credit': 3160, 'sides': 3161, \"suppress'd\": 3162, 'unjust': 3163, 'habit': 3164, \"flatter'd\": 3165, 'cxxxix': 3166, 'justify': 3167, 'slay': 3168, \"need'st\": 3169, \"press'd\": 3170, 'defense': 3171, 'dart': 3172, 'outright': 3173, 'rid': 3174, 'cxl': 3175, 'press': 3176, 'manner': 3177, 'testy': 3178, 'news': 3179, 'physicians': 3180, 'madness': 3181, 'wresting': 3182, 'slanderers': 3183, 'believed': 3184, 'cxli': 3185, 'pleased': 3186, \"tongue's\": 3187, 'tune': 3188, 'delighted': 3189, 'prone': 3190, 'invited': 3191, 'senses': 3192, 'dissuade': 3193, 'foolish': 3194, \"unsway'd\": 3195, 'likeness': 3196, 'awards': 3197, 'cxlii': 3198, 'merits': 3199, 'reproving': 3200, 'scarlet': 3201, 'ornaments': 3202, \"seal'd\": 3203, \"robb'd\": 3204, \"beds'\": 3205, 'revenues': 3206, 'rents': 3207, 'woo': 3208, 'importune': 3209, 'deserve': 3210, 'pitied': 3211, 'denied': 3212, 'cxliii': 3213, 'housewife': 3214, 'runs': 3215, \"feather'd\": 3216, 'dispatch': 3217, 'neglected': 3218, 'busy': 3219, 'prizing': 3220, \"infant's\": 3221, \"runn'st\": 3222, 'afar': 3223, 'pray': 3224, 'loud': 3225, 'crying': 3226, 'cxliv': 3227, 'suggest': 3228, 'worser': 3229, \"colour'd\": 3230, 'female': 3231, 'tempteth': 3232, 'saint': 3233, 'devil': 3234, 'wooing': 3235, 'purity': 3236, 'directly': 3237, 'doubt': 3238, 'cxlv': 3239, 'breathed': 3240, \"languish'd\": 3241, 'woeful': 3242, 'mercy': 3243, 'chiding': 3244, \"follow'd\": 3245, 'flown': 3246, 'threw': 3247, 'saved': 3248, 'saying': 3249, \"'not\": 3250, 'cxlvi': 3251, 'centre': 3252, 'rebel': 3253, 'powers': 3254, 'array': 3255, 'dearth': 3256, 'costly': 3257, 'inheritors': 3258, 'excess': 3259, 'charge': 3260, \"servant's\": 3261, 'aggravate': 3262, 'buy': 3263, 'terms': 3264, 'selling': 3265, 'dross': 3266, 'fed': 3267, 'feed': 3268, \"there's\": 3269, 'dying': 3270, 'cxlvii': 3271, 'longing': 3272, 'nurseth': 3273, 'disease': 3274, 'preserve': 3275, 'uncertain': 3276, 'sickly': 3277, 'physician': 3278, 'angry': 3279, 'prescriptions': 3280, 'desperate': 3281, 'except': 3282, 'frantic': 3283, 'unrest': 3284, 'discourse': 3285, \"madmen's\": 3286, 'random': 3287, 'cxlviii': 3288, 'correspondence': 3289, 'censures': 3290, 'falsely': 3291, 'aright': 3292, 'denote': 3293, \"'no\": 3294, \"vex'd\": 3295, 'watching': 3296, 'marvel': 3297, 'mistake': 3298, 'sees': 3299, 'clears': 3300, \"keep'st\": 3301, 'cxlix': 3302, 'partake': 3303, 'hateth': 3304, \"frown'st\": 3305, 'fawn': 3306, \"lour'st\": 3307, 'revenge': 3308, 'service': 3309, 'worship': 3310, 'commanded': 3311, 'cl': 3312, 'insufficiency': 3313, 'brightness': 3314, 'refuse': 3315, 'warrantize': 3316, 'exceeds': 3317, 'unworthiness': 3318, 'raised': 3319, 'cli': 3320, 'cheater': 3321, 'betraying': 3322, 'nobler': 3323, 'treason': 3324, 'stays': 3325, 'rising': 3326, 'drudge': 3327, \"'love'\": 3328, 'clii': 3329, 'swearing': 3330, 'act': 3331, 'torn': 3332, 'vowing': 3333, \"oaths'\": 3334, 'breach': 3335, 'twenty': 3336, 'misuse': 3337, 'honest': 3338, 'enlighten': 3339, 'blindness': 3340, 'cliii': 3341, 'maid': 3342, \"dian's\": 3343, 'kindling': 3344, 'quickly': 3345, 'valley': 3346, 'fountain': 3347, 'endure': 3348, 'seething': 3349, 'fired': 3350, 'trial': 3351, 'touch': 3352, 'withal': 3353, 'thither': 3354, 'hied': 3355, \"distemper'd\": 3356, 'cliv': 3357, 'lying': 3358, 'inflaming': 3359, 'nymphs': 3360, \"vow'd\": 3361, 'chaste': 3362, 'tripping': 3363, 'votary': 3364, 'legions': 3365, \"warm'd\": 3366, 'sleeping': 3367, 'virgin': 3368, \"disarm'd\": 3369, 'quenched': 3370, 'cool': 3371, 'thrall': 3372, 'heats': 3373, 'cools': 3374}\n"
     ]
    }
   ],
   "source": [
    "from tensorflow.keras.preprocessing.text import Tokenizer\n",
    "\n",
    "# Step 1: Initialize a tokenizer\n",
    "tokenizer = Tokenizer()\n",
    "\n",
    "# Step 2: Fit the tokenizer on the corpus\n",
    "tokenizer.fit_on_texts(corpus)\n",
    "\n",
    "# Check the word index\n",
    "word_index = tokenizer.word_index\n",
    "print(\"Word index:\", word_index)\n"
   ]
  },
  {
   "cell_type": "markdown",
   "metadata": {},
   "source": [
    "Step 2: Calculate the Vocabulary Size\n",
    "\n",
    "Let's figure out how many unique words are in your corpus. This will be the size of your vocabulary.\n",
    "\n",
    "Calculate the length of tokenizer.word_index, add 1 to it and store it in a variable called total_words."
   ]
  },
  {
   "cell_type": "code",
   "execution_count": 23,
   "metadata": {},
   "outputs": [
    {
     "name": "stdout",
     "output_type": "stream",
     "text": [
      "Total words (vocabulary size): 3375\n"
     ]
    }
   ],
   "source": [
    "# Step 2: Calculate the Vocabulary Size\n",
    "total_words = len(tokenizer.word_index) + 1\n",
    "\n",
    "# Print the total number of unique words\n",
    "print(\"Total words (vocabulary size):\", total_words)\n"
   ]
  },
  {
   "cell_type": "markdown",
   "metadata": {},
   "source": [
    "Create an empty list called input_sequences.\n",
    "\n",
    "For each sentence in your corpus, convert the text into a sequence of integers using the tokenizer.\n",
    "Then, generate n-gram sequences from these tokens.\n",
    "\n",
    "Store the result in the list input_sequences."
   ]
  },
  {
   "cell_type": "code",
   "execution_count": 25,
   "metadata": {},
   "outputs": [
    {
     "name": "stdout",
     "output_type": "stream",
     "text": [
      "First 5 sequences: [[3, 2], [3, 2, 313], [3, 2, 313, 1375], [3, 2, 313, 1375, 4], [118, 1376]]\n"
     ]
    }
   ],
   "source": [
    "# Step 3: Generate n-gram sequences\n",
    "input_sequences = []\n",
    "\n",
    "# Iterate through each line in the corpus\n",
    "for line in corpus:\n",
    "    # Convert each line into a sequence of integers\n",
    "    token_list = tokenizer.texts_to_sequences([line])[0]\n",
    "    \n",
    "    # Generate n-gram sequences\n",
    "    for i in range(1, len(token_list)):\n",
    "        n_gram_sequence = token_list[:i+1]\n",
    "        input_sequences.append(n_gram_sequence)\n",
    "\n",
    "# Print the first 5 sequences to verify\n",
    "print(\"First 5 sequences:\", input_sequences[:5])\n"
   ]
  },
  {
   "cell_type": "markdown",
   "metadata": {},
   "source": [
    "Calculate the length of the longest sequence in input_sequences. Assign the result to a variable called max_sequence_len.\n",
    "\n",
    "Now pad the sequences using pad_sequences(input_sequences, maxlen=max_sequence_len, padding='pre').\n",
    "Convert it to a numpy array and assign the result back to our variable called input_sequences."
   ]
  },
  {
   "cell_type": "code",
   "execution_count": 26,
   "metadata": {},
   "outputs": [
    {
     "name": "stdout",
     "output_type": "stream",
     "text": [
      "Max sequence length: 11\n",
      "Shape of input sequences: (15484, 11)\n"
     ]
    }
   ],
   "source": [
    "from tensorflow.keras.preprocessing.sequence import pad_sequences\n",
    "import numpy as np\n",
    "\n",
    "# Step 4: Calculate the length of the longest sequence\n",
    "max_sequence_len = max([len(seq) for seq in input_sequences])\n",
    "\n",
    "# Print the maximum sequence length\n",
    "print(\"Max sequence length:\", max_sequence_len)\n",
    "\n",
    "# Step 5: Pad the sequences\n",
    "input_sequences = pad_sequences(input_sequences, maxlen=max_sequence_len, padding='pre')\n",
    "\n",
    "# Convert to numpy array\n",
    "input_sequences = np.array(input_sequences)\n",
    "\n",
    "# Print the shape of the padded sequences to verify\n",
    "print(\"Shape of input sequences:\", input_sequences.shape)\n"
   ]
  },
  {
   "cell_type": "markdown",
   "metadata": {},
   "source": [
    "Prepare Predictors and Labels\n",
    "\n",
    "Split the sequences into two parts:\n",
    "\n",
    "- Predictors: All elements from input_sequences except the last one.\n",
    "- Labels: The last element of each sequence in input_sequences."
   ]
  },
  {
   "cell_type": "code",
   "execution_count": 27,
   "metadata": {
    "id": "PRnDnCW-Z7qv",
    "tags": []
   },
   "outputs": [
    {
     "name": "stdout",
     "output_type": "stream",
     "text": [
      "Shape of predictors: (15484, 10)\n",
      "Shape of labels: (15484,)\n"
     ]
    }
   ],
   "source": [
    "# Step 6: Prepare Predictors and Labels\n",
    "\n",
    "# Predictors: All elements except the last one\n",
    "predictors = input_sequences[:, :-1]\n",
    "\n",
    "# Labels: The last element of each sequence\n",
    "labels = input_sequences[:, -1]\n",
    "\n",
    "# Print the shape of predictors and labels to verify\n",
    "print(\"Shape of predictors:\", predictors.shape)\n",
    "print(\"Shape of labels:\", labels.shape)\n",
    "\n"
   ]
  },
  {
   "cell_type": "markdown",
   "metadata": {},
   "source": [
    "One-Hot Encode the Labels :\n",
    "\n",
    "Convert the labels (which are integers) into one-hot encoded vectors. \n",
    "\n",
    "Ensure the length of these vectors matches the total number of unique words in your vocabulary.\n",
    "\n",
    "Use ku.to_categorical() on labels with num_classes = total_words\n",
    "\n",
    "Assign the result back to our variable labels."
   ]
  },
  {
   "cell_type": "code",
   "execution_count": 28,
   "metadata": {},
   "outputs": [
    {
     "name": "stdout",
     "output_type": "stream",
     "text": [
      "Shape of one-hot encoded labels: (15484, 3375)\n"
     ]
    }
   ],
   "source": [
    "# Step 7: One-Hot Encode the Labels\n",
    "labels = ku.to_categorical(labels, num_classes=total_words)\n",
    "\n",
    "# Print the shape of the one-hot encoded labels to verify\n",
    "print(\"Shape of one-hot encoded labels:\", labels.shape)\n",
    "\n"
   ]
  },
  {
   "cell_type": "markdown",
   "metadata": {},
   "source": [
    "# Initialize the Model\n",
    "\n",
    "Start by creating a Sequential model.\n",
    "\n",
    "Add Layers to the Model:\n",
    "\n",
    "Embedding Layer: The first layer is an embedding layer. It converts word indices into dense vectors of fixed size (100 in this case). Set the input length to the maximum sequence length minus one, which corresponds to the number of previous words the model will consider when predicting the next word.\n",
    "\n",
    "Bidirectional LSTM Layer: Add a Bidirectional LSTM layer with 150 units. This layer allows the model to learn context from both directions (past and future) in the sequence. return_sequences=True\n",
    "\n",
    "Dropout Layer: Add a dropout layer with a rate of 0.2 to prevent overfitting by randomly setting 20% of the input units to 0 during training.\n",
    "\n",
    "LSTM Layer: Add a second LSTM layer with 100 units. This layer processes the sequence and passes its output to the next layer.\n",
    "\n",
    "Dense Layer (Intermediate): Add a dense layer with half the total number of words as units, using ReLU activation. A regularization term (L2) is added to prevent overfitting.\n",
    "\n",
    "Dense Layer (Output): The final dense layer has as many units as there are words in the vocabulary, with a softmax activation function to output a probability distribution over all words."
   ]
  },
  {
   "cell_type": "code",
   "execution_count": 30,
   "metadata": {},
   "outputs": [
    {
     "data": {
      "text/html": [
       "<pre style=\"white-space:pre;overflow-x:auto;line-height:normal;font-family:Menlo,'DejaVu Sans Mono',consolas,'Courier New',monospace\"><span style=\"font-weight: bold\">Model: \"sequential_3\"</span>\n",
       "</pre>\n"
      ],
      "text/plain": [
       "\u001b[1mModel: \"sequential_3\"\u001b[0m\n"
      ]
     },
     "metadata": {},
     "output_type": "display_data"
    },
    {
     "data": {
      "text/html": [
       "<pre style=\"white-space:pre;overflow-x:auto;line-height:normal;font-family:Menlo,'DejaVu Sans Mono',consolas,'Courier New',monospace\">┏━━━━━━━━━━━━━━━━━━━━━━━━━━━━━━━━━┳━━━━━━━━━━━━━━━━━━━━━━━━┳━━━━━━━━━━━━━━━┓\n",
       "┃<span style=\"font-weight: bold\"> Layer (type)                    </span>┃<span style=\"font-weight: bold\"> Output Shape           </span>┃<span style=\"font-weight: bold\">       Param # </span>┃\n",
       "┡━━━━━━━━━━━━━━━━━━━━━━━━━━━━━━━━━╇━━━━━━━━━━━━━━━━━━━━━━━━╇━━━━━━━━━━━━━━━┩\n",
       "│ embedding_3 (<span style=\"color: #0087ff; text-decoration-color: #0087ff\">Embedding</span>)         │ ?                      │   <span style=\"color: #00af00; text-decoration-color: #00af00\">0</span> (unbuilt) │\n",
       "├─────────────────────────────────┼────────────────────────┼───────────────┤\n",
       "│ bidirectional_3 (<span style=\"color: #0087ff; text-decoration-color: #0087ff\">Bidirectional</span>) │ ?                      │   <span style=\"color: #00af00; text-decoration-color: #00af00\">0</span> (unbuilt) │\n",
       "├─────────────────────────────────┼────────────────────────┼───────────────┤\n",
       "│ dropout_3 (<span style=\"color: #0087ff; text-decoration-color: #0087ff\">Dropout</span>)             │ ?                      │   <span style=\"color: #00af00; text-decoration-color: #00af00\">0</span> (unbuilt) │\n",
       "├─────────────────────────────────┼────────────────────────┼───────────────┤\n",
       "│ lstm_7 (<span style=\"color: #0087ff; text-decoration-color: #0087ff\">LSTM</span>)                   │ ?                      │   <span style=\"color: #00af00; text-decoration-color: #00af00\">0</span> (unbuilt) │\n",
       "├─────────────────────────────────┼────────────────────────┼───────────────┤\n",
       "│ dense_6 (<span style=\"color: #0087ff; text-decoration-color: #0087ff\">Dense</span>)                 │ ?                      │   <span style=\"color: #00af00; text-decoration-color: #00af00\">0</span> (unbuilt) │\n",
       "├─────────────────────────────────┼────────────────────────┼───────────────┤\n",
       "│ dense_7 (<span style=\"color: #0087ff; text-decoration-color: #0087ff\">Dense</span>)                 │ ?                      │   <span style=\"color: #00af00; text-decoration-color: #00af00\">0</span> (unbuilt) │\n",
       "└─────────────────────────────────┴────────────────────────┴───────────────┘\n",
       "</pre>\n"
      ],
      "text/plain": [
       "┏━━━━━━━━━━━━━━━━━━━━━━━━━━━━━━━━━┳━━━━━━━━━━━━━━━━━━━━━━━━┳━━━━━━━━━━━━━━━┓\n",
       "┃\u001b[1m \u001b[0m\u001b[1mLayer (type)                   \u001b[0m\u001b[1m \u001b[0m┃\u001b[1m \u001b[0m\u001b[1mOutput Shape          \u001b[0m\u001b[1m \u001b[0m┃\u001b[1m \u001b[0m\u001b[1m      Param #\u001b[0m\u001b[1m \u001b[0m┃\n",
       "┡━━━━━━━━━━━━━━━━━━━━━━━━━━━━━━━━━╇━━━━━━━━━━━━━━━━━━━━━━━━╇━━━━━━━━━━━━━━━┩\n",
       "│ embedding_3 (\u001b[38;5;33mEmbedding\u001b[0m)         │ ?                      │   \u001b[38;5;34m0\u001b[0m (unbuilt) │\n",
       "├─────────────────────────────────┼────────────────────────┼───────────────┤\n",
       "│ bidirectional_3 (\u001b[38;5;33mBidirectional\u001b[0m) │ ?                      │   \u001b[38;5;34m0\u001b[0m (unbuilt) │\n",
       "├─────────────────────────────────┼────────────────────────┼───────────────┤\n",
       "│ dropout_3 (\u001b[38;5;33mDropout\u001b[0m)             │ ?                      │   \u001b[38;5;34m0\u001b[0m (unbuilt) │\n",
       "├─────────────────────────────────┼────────────────────────┼───────────────┤\n",
       "│ lstm_7 (\u001b[38;5;33mLSTM\u001b[0m)                   │ ?                      │   \u001b[38;5;34m0\u001b[0m (unbuilt) │\n",
       "├─────────────────────────────────┼────────────────────────┼───────────────┤\n",
       "│ dense_6 (\u001b[38;5;33mDense\u001b[0m)                 │ ?                      │   \u001b[38;5;34m0\u001b[0m (unbuilt) │\n",
       "├─────────────────────────────────┼────────────────────────┼───────────────┤\n",
       "│ dense_7 (\u001b[38;5;33mDense\u001b[0m)                 │ ?                      │   \u001b[38;5;34m0\u001b[0m (unbuilt) │\n",
       "└─────────────────────────────────┴────────────────────────┴───────────────┘\n"
      ]
     },
     "metadata": {},
     "output_type": "display_data"
    },
    {
     "data": {
      "text/html": [
       "<pre style=\"white-space:pre;overflow-x:auto;line-height:normal;font-family:Menlo,'DejaVu Sans Mono',consolas,'Courier New',monospace\"><span style=\"font-weight: bold\"> Total params: </span><span style=\"color: #00af00; text-decoration-color: #00af00\">0</span> (0.00 B)\n",
       "</pre>\n"
      ],
      "text/plain": [
       "\u001b[1m Total params: \u001b[0m\u001b[38;5;34m0\u001b[0m (0.00 B)\n"
      ]
     },
     "metadata": {},
     "output_type": "display_data"
    },
    {
     "data": {
      "text/html": [
       "<pre style=\"white-space:pre;overflow-x:auto;line-height:normal;font-family:Menlo,'DejaVu Sans Mono',consolas,'Courier New',monospace\"><span style=\"font-weight: bold\"> Trainable params: </span><span style=\"color: #00af00; text-decoration-color: #00af00\">0</span> (0.00 B)\n",
       "</pre>\n"
      ],
      "text/plain": [
       "\u001b[1m Trainable params: \u001b[0m\u001b[38;5;34m0\u001b[0m (0.00 B)\n"
      ]
     },
     "metadata": {},
     "output_type": "display_data"
    },
    {
     "data": {
      "text/html": [
       "<pre style=\"white-space:pre;overflow-x:auto;line-height:normal;font-family:Menlo,'DejaVu Sans Mono',consolas,'Courier New',monospace\"><span style=\"font-weight: bold\"> Non-trainable params: </span><span style=\"color: #00af00; text-decoration-color: #00af00\">0</span> (0.00 B)\n",
       "</pre>\n"
      ],
      "text/plain": [
       "\u001b[1m Non-trainable params: \u001b[0m\u001b[38;5;34m0\u001b[0m (0.00 B)\n"
      ]
     },
     "metadata": {},
     "output_type": "display_data"
    }
   ],
   "source": [
    "\n",
    "from tensorflow.keras.models import Sequential\n",
    "from tensorflow.keras.layers import Embedding, Bidirectional, LSTM, Dense, Dropout\n",
    "from tensorflow.keras import regularizers\n",
    "\n",
    "# Step 8: Initialize the Model\n",
    "model = Sequential()\n",
    "\n",
    "# Embedding Layer\n",
    "model.add(Embedding(input_dim=total_words, output_dim=100, input_length=max_sequence_len-1))\n",
    "\n",
    "# Bidirectional LSTM Layer\n",
    "model.add(Bidirectional(LSTM(150, return_sequences=True)))\n",
    "\n",
    "# Dropout Layer\n",
    "model.add(Dropout(0.2))\n",
    "\n",
    "# Second LSTM Layer\n",
    "model.add(LSTM(100))\n",
    "\n",
    "# Dense Layer (Intermediate) with ReLU and L2 regularization\n",
    "model.add(Dense(total_words//2, activation='relu', kernel_regularizer=regularizers.l2(0.01)))\n",
    "\n",
    "# Output Dense Layer with softmax activation\n",
    "model.add(Dense(total_words, activation='softmax'))\n",
    "\n",
    "# Print the model summary to verify\n",
    "model.summary()\n",
    "\n",
    "\n"
   ]
  },
  {
   "cell_type": "markdown",
   "metadata": {},
   "source": [
    "# Compile the Model:\n",
    "\n",
    "Compile the model using categorical crossentropy as the loss function, the Adam optimizer for efficient training, and accuracy as the metric to evaluate during training."
   ]
  },
  {
   "cell_type": "code",
   "execution_count": 31,
   "metadata": {},
   "outputs": [],
   "source": [
    "from tensorflow.keras.optimizers import Adam\n",
    "\n",
    "# Step 9: Compile the Model\n",
    "model.compile(loss='categorical_crossentropy', \n",
    "              optimizer=Adam(), \n",
    "              metrics=['accuracy'])\n",
    "\n",
    "# Model is now ready to be trained\n",
    "\n"
   ]
  },
  {
   "cell_type": "markdown",
   "metadata": {},
   "source": [
    "# Print Model Summary:\n",
    "\n",
    "Use model.summary() to print a summary of the model, which shows the layers, their output shapes, and the number of parameters."
   ]
  },
  {
   "cell_type": "code",
   "execution_count": 32,
   "metadata": {},
   "outputs": [
    {
     "data": {
      "text/html": [
       "<pre style=\"white-space:pre;overflow-x:auto;line-height:normal;font-family:Menlo,'DejaVu Sans Mono',consolas,'Courier New',monospace\"><span style=\"font-weight: bold\">Model: \"sequential_3\"</span>\n",
       "</pre>\n"
      ],
      "text/plain": [
       "\u001b[1mModel: \"sequential_3\"\u001b[0m\n"
      ]
     },
     "metadata": {},
     "output_type": "display_data"
    },
    {
     "data": {
      "text/html": [
       "<pre style=\"white-space:pre;overflow-x:auto;line-height:normal;font-family:Menlo,'DejaVu Sans Mono',consolas,'Courier New',monospace\">┏━━━━━━━━━━━━━━━━━━━━━━━━━━━━━━━━━┳━━━━━━━━━━━━━━━━━━━━━━━━┳━━━━━━━━━━━━━━━┓\n",
       "┃<span style=\"font-weight: bold\"> Layer (type)                    </span>┃<span style=\"font-weight: bold\"> Output Shape           </span>┃<span style=\"font-weight: bold\">       Param # </span>┃\n",
       "┡━━━━━━━━━━━━━━━━━━━━━━━━━━━━━━━━━╇━━━━━━━━━━━━━━━━━━━━━━━━╇━━━━━━━━━━━━━━━┩\n",
       "│ embedding_3 (<span style=\"color: #0087ff; text-decoration-color: #0087ff\">Embedding</span>)         │ ?                      │   <span style=\"color: #00af00; text-decoration-color: #00af00\">0</span> (unbuilt) │\n",
       "├─────────────────────────────────┼────────────────────────┼───────────────┤\n",
       "│ bidirectional_3 (<span style=\"color: #0087ff; text-decoration-color: #0087ff\">Bidirectional</span>) │ ?                      │   <span style=\"color: #00af00; text-decoration-color: #00af00\">0</span> (unbuilt) │\n",
       "├─────────────────────────────────┼────────────────────────┼───────────────┤\n",
       "│ dropout_3 (<span style=\"color: #0087ff; text-decoration-color: #0087ff\">Dropout</span>)             │ ?                      │   <span style=\"color: #00af00; text-decoration-color: #00af00\">0</span> (unbuilt) │\n",
       "├─────────────────────────────────┼────────────────────────┼───────────────┤\n",
       "│ lstm_7 (<span style=\"color: #0087ff; text-decoration-color: #0087ff\">LSTM</span>)                   │ ?                      │   <span style=\"color: #00af00; text-decoration-color: #00af00\">0</span> (unbuilt) │\n",
       "├─────────────────────────────────┼────────────────────────┼───────────────┤\n",
       "│ dense_6 (<span style=\"color: #0087ff; text-decoration-color: #0087ff\">Dense</span>)                 │ ?                      │   <span style=\"color: #00af00; text-decoration-color: #00af00\">0</span> (unbuilt) │\n",
       "├─────────────────────────────────┼────────────────────────┼───────────────┤\n",
       "│ dense_7 (<span style=\"color: #0087ff; text-decoration-color: #0087ff\">Dense</span>)                 │ ?                      │   <span style=\"color: #00af00; text-decoration-color: #00af00\">0</span> (unbuilt) │\n",
       "└─────────────────────────────────┴────────────────────────┴───────────────┘\n",
       "</pre>\n"
      ],
      "text/plain": [
       "┏━━━━━━━━━━━━━━━━━━━━━━━━━━━━━━━━━┳━━━━━━━━━━━━━━━━━━━━━━━━┳━━━━━━━━━━━━━━━┓\n",
       "┃\u001b[1m \u001b[0m\u001b[1mLayer (type)                   \u001b[0m\u001b[1m \u001b[0m┃\u001b[1m \u001b[0m\u001b[1mOutput Shape          \u001b[0m\u001b[1m \u001b[0m┃\u001b[1m \u001b[0m\u001b[1m      Param #\u001b[0m\u001b[1m \u001b[0m┃\n",
       "┡━━━━━━━━━━━━━━━━━━━━━━━━━━━━━━━━━╇━━━━━━━━━━━━━━━━━━━━━━━━╇━━━━━━━━━━━━━━━┩\n",
       "│ embedding_3 (\u001b[38;5;33mEmbedding\u001b[0m)         │ ?                      │   \u001b[38;5;34m0\u001b[0m (unbuilt) │\n",
       "├─────────────────────────────────┼────────────────────────┼───────────────┤\n",
       "│ bidirectional_3 (\u001b[38;5;33mBidirectional\u001b[0m) │ ?                      │   \u001b[38;5;34m0\u001b[0m (unbuilt) │\n",
       "├─────────────────────────────────┼────────────────────────┼───────────────┤\n",
       "│ dropout_3 (\u001b[38;5;33mDropout\u001b[0m)             │ ?                      │   \u001b[38;5;34m0\u001b[0m (unbuilt) │\n",
       "├─────────────────────────────────┼────────────────────────┼───────────────┤\n",
       "│ lstm_7 (\u001b[38;5;33mLSTM\u001b[0m)                   │ ?                      │   \u001b[38;5;34m0\u001b[0m (unbuilt) │\n",
       "├─────────────────────────────────┼────────────────────────┼───────────────┤\n",
       "│ dense_6 (\u001b[38;5;33mDense\u001b[0m)                 │ ?                      │   \u001b[38;5;34m0\u001b[0m (unbuilt) │\n",
       "├─────────────────────────────────┼────────────────────────┼───────────────┤\n",
       "│ dense_7 (\u001b[38;5;33mDense\u001b[0m)                 │ ?                      │   \u001b[38;5;34m0\u001b[0m (unbuilt) │\n",
       "└─────────────────────────────────┴────────────────────────┴───────────────┘\n"
      ]
     },
     "metadata": {},
     "output_type": "display_data"
    },
    {
     "data": {
      "text/html": [
       "<pre style=\"white-space:pre;overflow-x:auto;line-height:normal;font-family:Menlo,'DejaVu Sans Mono',consolas,'Courier New',monospace\"><span style=\"font-weight: bold\"> Total params: </span><span style=\"color: #00af00; text-decoration-color: #00af00\">0</span> (0.00 B)\n",
       "</pre>\n"
      ],
      "text/plain": [
       "\u001b[1m Total params: \u001b[0m\u001b[38;5;34m0\u001b[0m (0.00 B)\n"
      ]
     },
     "metadata": {},
     "output_type": "display_data"
    },
    {
     "data": {
      "text/html": [
       "<pre style=\"white-space:pre;overflow-x:auto;line-height:normal;font-family:Menlo,'DejaVu Sans Mono',consolas,'Courier New',monospace\"><span style=\"font-weight: bold\"> Trainable params: </span><span style=\"color: #00af00; text-decoration-color: #00af00\">0</span> (0.00 B)\n",
       "</pre>\n"
      ],
      "text/plain": [
       "\u001b[1m Trainable params: \u001b[0m\u001b[38;5;34m0\u001b[0m (0.00 B)\n"
      ]
     },
     "metadata": {},
     "output_type": "display_data"
    },
    {
     "data": {
      "text/html": [
       "<pre style=\"white-space:pre;overflow-x:auto;line-height:normal;font-family:Menlo,'DejaVu Sans Mono',consolas,'Courier New',monospace\"><span style=\"font-weight: bold\"> Non-trainable params: </span><span style=\"color: #00af00; text-decoration-color: #00af00\">0</span> (0.00 B)\n",
       "</pre>\n"
      ],
      "text/plain": [
       "\u001b[1m Non-trainable params: \u001b[0m\u001b[38;5;34m0\u001b[0m (0.00 B)\n"
      ]
     },
     "metadata": {},
     "output_type": "display_data"
    }
   ],
   "source": [
    "# Print the model summary\n",
    "model.summary()\n"
   ]
  },
  {
   "cell_type": "markdown",
   "metadata": {},
   "source": [
    "# Now train the model for 50 epochs and assign it to a variable called history.\n",
    "\n",
    "Training the model with 50 epochs should get you around 40% accuracy.\n",
    "\n",
    "You can train the model for as many epochs as you like depending on the time and computing constraints you are facing. Ideally train it for a larger amount of epochs than 50.\n",
    "\n",
    "That way you will get better text generation at the end.\n",
    "\n",
    "However, dont waste your time."
   ]
  },
  {
   "cell_type": "code",
   "execution_count": null,
   "metadata": {
    "id": "AIg2f1HBxqof",
    "tags": []
   },
   "outputs": [
    {
     "name": "stdout",
     "output_type": "stream",
     "text": [
      "Epoch 1/50\n",
      "\u001b[1m484/484\u001b[0m \u001b[32m━━━━━━━━━━━━━━━━━━━━\u001b[0m\u001b[37m\u001b[0m \u001b[1m44s\u001b[0m 83ms/step - accuracy: 0.0200 - loss: 7.3330\n",
      "Epoch 2/50\n",
      "\u001b[1m484/484\u001b[0m \u001b[32m━━━━━━━━━━━━━━━━━━━━\u001b[0m\u001b[37m\u001b[0m \u001b[1m39s\u001b[0m 81ms/step - accuracy: 0.0206 - loss: 6.4756\n",
      "Epoch 3/50\n",
      "\u001b[1m484/484\u001b[0m \u001b[32m━━━━━━━━━━━━━━━━━━━━\u001b[0m\u001b[37m\u001b[0m \u001b[1m39s\u001b[0m 80ms/step - accuracy: 0.0237 - loss: 6.4213\n",
      "Epoch 4/50\n",
      "\u001b[1m484/484\u001b[0m \u001b[32m━━━━━━━━━━━━━━━━━━━━\u001b[0m\u001b[37m\u001b[0m \u001b[1m38s\u001b[0m 78ms/step - accuracy: 0.0316 - loss: 6.2878\n",
      "Epoch 5/50\n",
      "\u001b[1m484/484\u001b[0m \u001b[32m━━━━━━━━━━━━━━━━━━━━\u001b[0m\u001b[37m\u001b[0m \u001b[1m39s\u001b[0m 81ms/step - accuracy: 0.0354 - loss: 6.1665\n",
      "Epoch 6/50\n",
      "\u001b[1m484/484\u001b[0m \u001b[32m━━━━━━━━━━━━━━━━━━━━\u001b[0m\u001b[37m\u001b[0m \u001b[1m38s\u001b[0m 79ms/step - accuracy: 0.0392 - loss: 6.1057\n",
      "Epoch 7/50\n",
      "\u001b[1m484/484\u001b[0m \u001b[32m━━━━━━━━━━━━━━━━━━━━\u001b[0m\u001b[37m\u001b[0m \u001b[1m38s\u001b[0m 78ms/step - accuracy: 0.0385 - loss: 6.0495\n",
      "Epoch 8/50\n",
      "\u001b[1m484/484\u001b[0m \u001b[32m━━━━━━━━━━━━━━━━━━━━\u001b[0m\u001b[37m\u001b[0m \u001b[1m38s\u001b[0m 79ms/step - accuracy: 0.0438 - loss: 6.0070\n",
      "Epoch 9/50\n",
      "\u001b[1m484/484\u001b[0m \u001b[32m━━━━━━━━━━━━━━━━━━━━\u001b[0m\u001b[37m\u001b[0m \u001b[1m39s\u001b[0m 80ms/step - accuracy: 0.0468 - loss: 5.8982\n",
      "Epoch 10/50\n",
      "\u001b[1m484/484\u001b[0m \u001b[32m━━━━━━━━━━━━━━━━━━━━\u001b[0m\u001b[37m\u001b[0m \u001b[1m38s\u001b[0m 79ms/step - accuracy: 0.0493 - loss: 5.8138\n",
      "Epoch 11/50\n",
      "\u001b[1m484/484\u001b[0m \u001b[32m━━━━━━━━━━━━━━━━━━━━\u001b[0m\u001b[37m\u001b[0m \u001b[1m38s\u001b[0m 79ms/step - accuracy: 0.0554 - loss: 5.7421\n",
      "Epoch 12/50\n",
      "\u001b[1m484/484\u001b[0m \u001b[32m━━━━━━━━━━━━━━━━━━━━\u001b[0m\u001b[37m\u001b[0m \u001b[1m39s\u001b[0m 81ms/step - accuracy: 0.0605 - loss: 5.6218\n",
      "Epoch 13/50\n",
      "\u001b[1m375/484\u001b[0m \u001b[32m━━━━━━━━━━━━━━━\u001b[0m\u001b[37m━━━━━\u001b[0m \u001b[1m8s\u001b[0m 79ms/step - accuracy: 0.0598 - loss: 5.5309"
     ]
    }
   ],
   "source": [
    "# Train the model for 50 epochs\n",
    "history = model.fit(predictors, labels, epochs=50, verbose=1)\n",
    "\n",
    "# Print the training process complete message\n",
    "print(\"Training complete.\")\n"
   ]
  },
  {
   "cell_type": "markdown",
   "metadata": {},
   "source": [
    "# Use plt from matplotlib to plot the training accuracy over epochs and the loss over epochs"
   ]
  },
  {
   "cell_type": "markdown",
   "metadata": {},
   "source": [
    "First you will have to get the accuracy and loss data over epochs, you can do this by using methods on your model."
   ]
  },
  {
   "cell_type": "code",
   "execution_count": 18,
   "metadata": {
    "id": "1fXTEO3GJ282",
    "tags": []
   },
   "outputs": [
    {
     "data": {
      "image/png": "[encoded data removed]",
      "text/plain": [
       "<Figure size 1200x500 with 2 Axes>"
      ]
     },
     "metadata": {},
     "output_type": "display_data"
    }
   ],
   "source": [
    "import matplotlib.pyplot as plt\n",
    "\n",
    "# Step 13: Retrieve accuracy and loss from the history object\n",
    "acc = history.history['accuracy']\n",
    "loss = history.history['loss']\n",
    "epochs = range(1, len(acc) + 1)\n",
    "\n",
    "# Step 14: Plot the training accuracy over epochs\n",
    "plt.figure(figsize=(12, 6))\n",
    "\n",
    "# Plot accuracy\n",
    "plt.subplot(1, 2, 1)\n",
    "plt.plot(epochs, acc, 'b', label='Training Accuracy')\n",
    "plt.title('Training Accuracy over Epochs')\n",
    "plt.xlabel('Epochs')\n",
    "plt.ylabel('Accuracy')\n",
    "plt.legend()\n",
    "\n",
    "# Plot loss\n",
    "plt.subplot(1, 2, 2)\n",
    "plt.plot(epochs, loss, 'r', label='Training Loss')\n",
    "plt.title('Training Loss over Epochs')\n",
    "plt.xlabel('Epochs')\n",
    "plt.ylabel('Loss')\n",
    "plt.legend()\n",
    "\n",
    "# Show the plots\n",
    "plt.tight_layout()\n",
    "plt.show()\n"
   ]
  },
  {
   "cell_type": "markdown",
   "metadata": {},
   "source": [
    "# Generate text with the model based on a seed text\n",
    "\n",
    "Now you will create two variables :\n",
    "\n",
    "- seed_text = 'Write the text you want the model to use as a starting point to generate the next words'\n",
    "- next_words = number_of_words_you_want_the_model_to_generate\n",
    "\n",
    "Please change number_of_words_you_want_the_model_to_generate by an actual integer."
   ]
  },
  {
   "cell_type": "code",
   "execution_count": 19,
   "metadata": {},
   "outputs": [
    {
     "name": "stdout",
     "output_type": "stream",
     "text": [
      "Generated Text: \n",
      "Write the text you want the model to use as a starting point out more eye to prove ground rare ' should so deem'd rare words youth ' add to me heart ' alone did live so mad leaves face out well alone is not so true need love shown shown foes impute free ' of doubt hell ' add to decay love\n"
     ]
    }
   ],
   "source": [
    "# Step 15: Generate Text with the Model\n",
    "\n",
    "# Define seed text and the number of words to generate\n",
    "seed_text = \"Shall I enjoy my weekend\"\n",
    "next_words = 100  # Change this to the number of words you want to generate\n",
    "\n",
    "for _ in range(next_words):\n",
    "    # Convert seed text into a sequence of integers\n",
    "    token_list = tokenizer.texts_to_sequences([seed_text])[0]\n",
    "    \n",
    "    # Pad the sequence to match the input length of the model\n",
    "    token_list = pad_sequences([token_list], maxlen=max_sequence_len-1, padding='pre')\n",
    "    \n",
    "    # Predict the next word\n",
    "    predicted = model.predict(token_list, verbose=0)\n",
    "    \n",
    "    # Choose the word with the highest probability\n",
    "    predicted_word_index = np.argmax(predicted, axis=1)[0]\n",
    "    \n",
    "    # Get the word corresponding to the predicted index\n",
    "    output_word = \"\"\n",
    "    for word, index in tokenizer.word_index.items():\n",
    "        if index == predicted_word_index:\n",
    "            output_word = word\n",
    "            break\n",
    "    \n",
    "    # Append the predicted word to the seed text\n",
    "    seed_text += \" \" + output_word\n",
    "\n",
    "# Print the generated text\n",
    "print(seed_text)\n",
    "\n",
    "   \n"
   ]
  },
  {
   "cell_type": "markdown",
   "metadata": {},
   "source": [
    "Now create a loop that runs based on the next_words variable and generates new text based on your seed_text input string. Print the full text with the generated text at the end.\n",
    "\n",
    "This time you dont get detailed instructions.\n",
    "\n",
    "Have fun!"
   ]
  },
  {
   "cell_type": "code",
   "execution_count": 20,
   "metadata": {
    "id": "6Vc6PHgxa6Hm",
    "tags": []
   },
   "outputs": [
    {
     "name": "stdout",
     "output_type": "stream",
     "text": [
      "Generated Text:\n",
      "\n",
      "Write the text you want the model to use as a starting point out more eye to prove ground rare ' should so deem'd rare words youth ' add to me heart ' alone did live so mad leaves face out well alone is not so true need love shown shown foes impute free ' of doubt hell ' add to decay love\n"
     ]
    }
   ],
   "source": [
    "# Step 16: Generate Text in a Loop\n",
    "\n",
    "# Define seed text and number of words to generate\n",
    "seed_text = \"Shall I compare thee to a summer's day\" #Write the text you want the model to use as a starting point\"\n",
    "next_words = 50  # Change this to however many words you want the model to generate\n",
    "\n",
    "# Loop to generate words\n",
    "for _ in range(next_words):\n",
    "    # Convert seed text to sequence of integers\n",
    "    token_list = tokenizer.texts_to_sequences([seed_text])[0]\n",
    "    \n",
    "    # Pad the token list to ensure the length is max_sequence_len-1\n",
    "    token_list = pad_sequences([token_list], maxlen=max_sequence_len-1, padding='pre')\n",
    "    \n",
    "    # Predict the next word using the model\n",
    "    predicted = model.predict(token_list, verbose=0)\n",
    "    \n",
    "    # Get the index of the most probable next word\n",
    "    predicted_word_index = np.argmax(predicted, axis=1)[0]\n",
    "    \n",
    "    # Find the corresponding word for that index\n",
    "    output_word = \"\"\n",
    "    for word, index in tokenizer.word_index.items():\n",
    "        if index == predicted_word_index:\n",
    "            output_word = word\n",
    "            break\n",
    "    \n",
    "    # Append the predicted word to the seed text\n",
    "    seed_text += \" \" + output_word\n",
    "\n",
    "# Print the generated text\n",
    "print(seed_text)\n",
    "\n"
   ]
  },
  {
   "cell_type": "markdown",
   "metadata": {},
   "source": [
    "Experiment with at least 3 different seed_text strings and see what happens!"
   ]
  },
  {
   "cell_type": "code",
   "execution_count": 21,
   "metadata": {},
   "outputs": [
    {
     "ename": "SyntaxError",
     "evalue": "unterminated string literal (detected at line 32) (975412166.py, line 32)",
     "output_type": "error",
     "traceback": [
      "\u001b[1;36m  Cell \u001b[1;32mIn[21], line 32\u001b[1;36m\u001b[0m\n\u001b[1;33m    generated_text += \"\u001b[0m\n\u001b[1;37m                      ^\u001b[0m\n\u001b[1;31mSyntaxError\u001b[0m\u001b[1;31m:\u001b[0m unterminated string literal (detected at line 32)\n"
     ]
    }
   ],
   "source": [
    "# Define seed texts and number of words to generate\n",
    "experiments = [\n",
    "    {\"seed_text\": \"To be or not to be\", \"next_words\": 20},\n",
    "    {\"seed_text\": \"I love thee more than words\", \"next_words\": 20},\n",
    "    {\"seed_text\": \"The dark night whispers secrets\", \"next_words\": 20}\n",
    "]\n",
    "\n",
    "# Loop through each experiment\n",
    "for experiment in experiments:\n",
    "    seed_text = experiment[\"seed_text\"]\n",
    "    next_words = experiment[\"next_words\"]\n",
    "    \n",
    "    print(f\"Starting text generation for: '{seed_text}'\\n\")\n",
    "    \n",
    "    for _ in range(next_words):\n",
    "        token_list = tokenizer.texts_to_sequences([seed_text])[0]\n",
    "        token_list = pad_sequences([token_list], maxlen=max_sequence_len-1, padding='pre')\n",
    "        predicted = model.predict(token_list, verbose=0)\n",
    "        predicted_word_index = np.argmax(predicted, axis=1)[0]\n",
    "        output_word = \"\"\n",
    "        for word, index in tokenizer.word_index.items():\n",
    "            if index == predicted_word_index:\n",
    "                output_word = word\n",
    "                break\n",
    "        seed_text += \" \" + output_word\n",
    "    \n",
    "    print(f\"Generated text: {seed_text}\\n\")\n"
   ]
  }
 ],
 "metadata": {
  "accelerator": "GPU",
  "colab": {
   "name": "NLP_Week4_Exercise_Shakespeare_Answer.ipynb",
   "provenance": [],
   "toc_visible": true
  },
  "kernelspec": {
   "display_name": "Python 3",
   "language": "python",
   "name": "python3"
  },
  "language_info": {
   "codemirror_mode": {
    "name": "ipython",
    "version": 3
   },
   "file_extension": ".py",
   "mimetype": "text/x-python",
   "name": "python",
   "nbconvert_exporter": "python",
   "pygments_lexer": "ipython3",
   "version": "3.12.7"
  }
 },
 "nbformat": 4,
 "nbformat_minor": 4
}
